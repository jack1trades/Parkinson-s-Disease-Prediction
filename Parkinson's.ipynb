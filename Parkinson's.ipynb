{
  "nbformat": 4,
  "nbformat_minor": 0,
  "metadata": {
    "colab": {
      "name": "Parkinson's.ipynb",
      "provenance": [],
      "collapsed_sections": [
        "ut8KrnIvnk5l",
        "zsG11Th5yRKG",
        "wFrbZ_cUgcRa",
        "h32Y-oCMhfQK",
        "ScOZ_2sFiSBm",
        "0nPu2od6uKDv",
        "Pqih529tyvwn",
        "qPNCNk581nt-",
        "6yQc-AUQBAJg",
        "7ElIGV7GMsdY",
        "K0rjJBT8Q2sC",
        "oKjM5aV-zsor",
        "YLrJvtIA3525",
        "mV-tJpJU4UZz",
        "jqOvaJTn9nf3",
        "hD27qRrkJ4us"
      ]
    },
    "kernelspec": {
      "name": "python3",
      "display_name": "Python 3"
    },
    "language_info": {
      "name": "python"
    }
  },
  "cells": [
    {
      "cell_type": "markdown",
      "metadata": {
        "id": "DLT53ZNH_4B2"
      },
      "source": [
        "**PARKINSON'S DISEASE**"
      ]
    },
    {
      "cell_type": "markdown",
      "metadata": {
        "id": "HvqjmkQ07WqR"
      },
      "source": [
        "**The first Neurological syndrome to be ever discovered**"
      ]
    },
    {
      "cell_type": "markdown",
      "metadata": {
        "id": "Xs5RR_O873uw"
      },
      "source": [
        "**With its first medical description written in 1817, finding the right medicine is still a challenge in medical world**"
      ]
    },
    {
      "cell_type": "markdown",
      "metadata": {
        "id": "8qCNQCYg8WkU"
      },
      "source": [
        "**However, we can garner much comfort in the following words:**\n",
        "\n",
        "*   **\"Prevention is better than cure\"**\n"
      ]
    },
    {
      "cell_type": "markdown",
      "metadata": {
        "id": "0o7QWush8zOo"
      },
      "source": [
        "**Data Science aids in a number of ways to predict this syndrome based on patient data, beforehand.**"
      ]
    },
    {
      "cell_type": "markdown",
      "metadata": {
        "id": "ut8KrnIvnk5l"
      },
      "source": [
        "##### **Dataset**"
      ]
    },
    {
      "cell_type": "code",
      "metadata": {
        "id": "pMaYrHTjnnEU"
      },
      "source": [
        "import pandas as pd"
      ],
      "execution_count": null,
      "outputs": []
    },
    {
      "cell_type": "code",
      "metadata": {
        "id": "Kzbz-rOdnoiM"
      },
      "source": [
        "ps = pd.read_csv(\"parkinsons_data.csv\")"
      ],
      "execution_count": null,
      "outputs": []
    },
    {
      "cell_type": "code",
      "metadata": {
        "colab": {
          "base_uri": "https://localhost:8080/"
        },
        "id": "H6f0ycchnytC",
        "outputId": "da8230a1-7b45-4f4b-aa9b-962702efa457"
      },
      "source": [
        "ps.head()"
      ],
      "execution_count": null,
      "outputs": [
        {
          "output_type": "execute_result",
          "data": {
            "text/html": [
              "<div>\n",
              "<style scoped>\n",
              "    .dataframe tbody tr th:only-of-type {\n",
              "        vertical-align: middle;\n",
              "    }\n",
              "\n",
              "    .dataframe tbody tr th {\n",
              "        vertical-align: top;\n",
              "    }\n",
              "\n",
              "    .dataframe thead th {\n",
              "        text-align: right;\n",
              "    }\n",
              "</style>\n",
              "<table border=\"1\" class=\"dataframe\">\n",
              "  <thead>\n",
              "    <tr style=\"text-align: right;\">\n",
              "      <th></th>\n",
              "      <th>name</th>\n",
              "      <th>MDVP:Fo(Hz)</th>\n",
              "      <th>MDVP:Fhi(Hz)</th>\n",
              "      <th>MDVP:Flo(Hz)</th>\n",
              "      <th>MDVP:Jitter(%)</th>\n",
              "      <th>MDVP:Jitter(Abs)</th>\n",
              "      <th>MDVP:RAP</th>\n",
              "      <th>MDVP:PPQ</th>\n",
              "      <th>Jitter:DDP</th>\n",
              "      <th>MDVP:Shimmer</th>\n",
              "      <th>MDVP:Shimmer(dB)</th>\n",
              "      <th>Shimmer:APQ3</th>\n",
              "      <th>Shimmer:APQ5</th>\n",
              "      <th>MDVP:APQ</th>\n",
              "      <th>Shimmer:DDA</th>\n",
              "      <th>NHR</th>\n",
              "      <th>HNR</th>\n",
              "      <th>status</th>\n",
              "      <th>RPDE</th>\n",
              "      <th>DFA</th>\n",
              "      <th>spread1</th>\n",
              "      <th>spread2</th>\n",
              "      <th>D2</th>\n",
              "      <th>PPE</th>\n",
              "    </tr>\n",
              "  </thead>\n",
              "  <tbody>\n",
              "    <tr>\n",
              "      <th>0</th>\n",
              "      <td>phon_R01_S01_1</td>\n",
              "      <td>119.992</td>\n",
              "      <td>157.302</td>\n",
              "      <td>74.997</td>\n",
              "      <td>0.00784</td>\n",
              "      <td>0.00007</td>\n",
              "      <td>0.00370</td>\n",
              "      <td>0.00554</td>\n",
              "      <td>0.01109</td>\n",
              "      <td>0.04374</td>\n",
              "      <td>0.426</td>\n",
              "      <td>0.02182</td>\n",
              "      <td>0.03130</td>\n",
              "      <td>0.02971</td>\n",
              "      <td>0.06545</td>\n",
              "      <td>0.02211</td>\n",
              "      <td>21.033</td>\n",
              "      <td>1</td>\n",
              "      <td>0.414783</td>\n",
              "      <td>0.815285</td>\n",
              "      <td>-4.813031</td>\n",
              "      <td>0.266482</td>\n",
              "      <td>2.301442</td>\n",
              "      <td>0.284654</td>\n",
              "    </tr>\n",
              "    <tr>\n",
              "      <th>1</th>\n",
              "      <td>phon_R01_S01_2</td>\n",
              "      <td>122.400</td>\n",
              "      <td>148.650</td>\n",
              "      <td>113.819</td>\n",
              "      <td>0.00968</td>\n",
              "      <td>0.00008</td>\n",
              "      <td>0.00465</td>\n",
              "      <td>0.00696</td>\n",
              "      <td>0.01394</td>\n",
              "      <td>0.06134</td>\n",
              "      <td>0.626</td>\n",
              "      <td>0.03134</td>\n",
              "      <td>0.04518</td>\n",
              "      <td>0.04368</td>\n",
              "      <td>0.09403</td>\n",
              "      <td>0.01929</td>\n",
              "      <td>19.085</td>\n",
              "      <td>1</td>\n",
              "      <td>0.458359</td>\n",
              "      <td>0.819521</td>\n",
              "      <td>-4.075192</td>\n",
              "      <td>0.335590</td>\n",
              "      <td>2.486855</td>\n",
              "      <td>0.368674</td>\n",
              "    </tr>\n",
              "    <tr>\n",
              "      <th>2</th>\n",
              "      <td>phon_R01_S01_3</td>\n",
              "      <td>116.682</td>\n",
              "      <td>131.111</td>\n",
              "      <td>111.555</td>\n",
              "      <td>0.01050</td>\n",
              "      <td>0.00009</td>\n",
              "      <td>0.00544</td>\n",
              "      <td>0.00781</td>\n",
              "      <td>0.01633</td>\n",
              "      <td>0.05233</td>\n",
              "      <td>0.482</td>\n",
              "      <td>0.02757</td>\n",
              "      <td>0.03858</td>\n",
              "      <td>0.03590</td>\n",
              "      <td>0.08270</td>\n",
              "      <td>0.01309</td>\n",
              "      <td>20.651</td>\n",
              "      <td>1</td>\n",
              "      <td>0.429895</td>\n",
              "      <td>0.825288</td>\n",
              "      <td>-4.443179</td>\n",
              "      <td>0.311173</td>\n",
              "      <td>2.342259</td>\n",
              "      <td>0.332634</td>\n",
              "    </tr>\n",
              "    <tr>\n",
              "      <th>3</th>\n",
              "      <td>phon_R01_S01_4</td>\n",
              "      <td>116.676</td>\n",
              "      <td>137.871</td>\n",
              "      <td>111.366</td>\n",
              "      <td>0.00997</td>\n",
              "      <td>0.00009</td>\n",
              "      <td>0.00502</td>\n",
              "      <td>0.00698</td>\n",
              "      <td>0.01505</td>\n",
              "      <td>0.05492</td>\n",
              "      <td>0.517</td>\n",
              "      <td>0.02924</td>\n",
              "      <td>0.04005</td>\n",
              "      <td>0.03772</td>\n",
              "      <td>0.08771</td>\n",
              "      <td>0.01353</td>\n",
              "      <td>20.644</td>\n",
              "      <td>1</td>\n",
              "      <td>0.434969</td>\n",
              "      <td>0.819235</td>\n",
              "      <td>-4.117501</td>\n",
              "      <td>0.334147</td>\n",
              "      <td>2.405554</td>\n",
              "      <td>0.368975</td>\n",
              "    </tr>\n",
              "    <tr>\n",
              "      <th>4</th>\n",
              "      <td>phon_R01_S01_5</td>\n",
              "      <td>116.014</td>\n",
              "      <td>141.781</td>\n",
              "      <td>110.655</td>\n",
              "      <td>0.01284</td>\n",
              "      <td>0.00011</td>\n",
              "      <td>0.00655</td>\n",
              "      <td>0.00908</td>\n",
              "      <td>0.01966</td>\n",
              "      <td>0.06425</td>\n",
              "      <td>0.584</td>\n",
              "      <td>0.03490</td>\n",
              "      <td>0.04825</td>\n",
              "      <td>0.04465</td>\n",
              "      <td>0.10470</td>\n",
              "      <td>0.01767</td>\n",
              "      <td>19.649</td>\n",
              "      <td>1</td>\n",
              "      <td>0.417356</td>\n",
              "      <td>0.823484</td>\n",
              "      <td>-3.747787</td>\n",
              "      <td>0.234513</td>\n",
              "      <td>2.332180</td>\n",
              "      <td>0.410335</td>\n",
              "    </tr>\n",
              "  </tbody>\n",
              "</table>\n",
              "</div>"
            ],
            "text/plain": [
              "             name  MDVP:Fo(Hz)  MDVP:Fhi(Hz)  ...   spread2        D2       PPE\n",
              "0  phon_R01_S01_1      119.992       157.302  ...  0.266482  2.301442  0.284654\n",
              "1  phon_R01_S01_2      122.400       148.650  ...  0.335590  2.486855  0.368674\n",
              "2  phon_R01_S01_3      116.682       131.111  ...  0.311173  2.342259  0.332634\n",
              "3  phon_R01_S01_4      116.676       137.871  ...  0.334147  2.405554  0.368975\n",
              "4  phon_R01_S01_5      116.014       141.781  ...  0.234513  2.332180  0.410335\n",
              "\n",
              "[5 rows x 24 columns]"
            ]
          },
          "metadata": {},
          "execution_count": 3
        }
      ]
    },
    {
      "cell_type": "code",
      "metadata": {
        "id": "hHwzwwNvbils"
      },
      "source": [
        "# Renaming column variable names\n",
        "\n",
        "ps = ps.rename(columns = {       \"MDVP:Flo(Hz)\"      :   \"MDVP_Flo(Hz)\",\n",
        "                                 \"MDVP:Fhi(Hz)\"      :   \"MDVP_Fhi(Hz)\",\n",
        "                                 \"MDVP:Fo(Hz)\"      :   \"MDVP_Fo(Hz)\",\n",
        "                                 \"MDVP:Jitter(%)\"    :   \"MDVP_Jitter(percentage)\",\n",
        "                                 \"MDVP:Jitter(Abs)\"  :   \"MDVP_Jitter(Abs)\",\n",
        "                                 \"MDVP:RAP\"          :   \"MDVP_RAP\",\n",
        "                                 \"MDVP:PPQ\"          :   \"MDVP_PPQ\",\n",
        "                                 \"Jitter:DDP\"        :   \"Jitter_DDP\",\n",
        "                                 \"MDVP:Shimmer\"      :   \"MDVP_Shimmer\",\n",
        "                                 \"MDVP:Shimmer(dB)\"  :   \"MDVP_Shimmer(dB)\",\n",
        "                                 \"Shimmer:APQ3\"      :   \"Shimmer_APQ3\",\n",
        "                                 \"Shimmer:APQ5\"      :   \"Shimmer_APQ5\",\n",
        "                                 \"MDVP:APQ\"          :   \"MDVP_APQ\",\n",
        "                                 \"Shimmer:DDA\"       :   \"Shimmer_DDA\"      })"
      ],
      "execution_count": null,
      "outputs": []
    },
    {
      "cell_type": "code",
      "metadata": {
        "colab": {
          "base_uri": "https://localhost:8080/"
        },
        "id": "jJ3w4Yi2f65z",
        "outputId": "625d66c7-a41e-418e-c069-be5d1e32fc8c"
      },
      "source": [
        "ps.head()"
      ],
      "execution_count": null,
      "outputs": [
        {
          "output_type": "execute_result",
          "data": {
            "text/html": [
              "<div>\n",
              "<style scoped>\n",
              "    .dataframe tbody tr th:only-of-type {\n",
              "        vertical-align: middle;\n",
              "    }\n",
              "\n",
              "    .dataframe tbody tr th {\n",
              "        vertical-align: top;\n",
              "    }\n",
              "\n",
              "    .dataframe thead th {\n",
              "        text-align: right;\n",
              "    }\n",
              "</style>\n",
              "<table border=\"1\" class=\"dataframe\">\n",
              "  <thead>\n",
              "    <tr style=\"text-align: right;\">\n",
              "      <th></th>\n",
              "      <th>name</th>\n",
              "      <th>MDVP_Fo(Hz)</th>\n",
              "      <th>MDVP_Fhi(Hz)</th>\n",
              "      <th>MDVP_Flo(Hz)</th>\n",
              "      <th>MDVP_Jitter(percentage)</th>\n",
              "      <th>MDVP_Jitter(Abs)</th>\n",
              "      <th>MDVP_RAP</th>\n",
              "      <th>MDVP_PPQ</th>\n",
              "      <th>Jitter_DDP</th>\n",
              "      <th>MDVP_Shimmer</th>\n",
              "      <th>MDVP_Shimmer(dB)</th>\n",
              "      <th>Shimmer_APQ3</th>\n",
              "      <th>Shimmer_APQ5</th>\n",
              "      <th>MDVP_APQ</th>\n",
              "      <th>Shimmer_DDA</th>\n",
              "      <th>NHR</th>\n",
              "      <th>HNR</th>\n",
              "      <th>status</th>\n",
              "      <th>RPDE</th>\n",
              "      <th>DFA</th>\n",
              "      <th>spread1</th>\n",
              "      <th>spread2</th>\n",
              "      <th>D2</th>\n",
              "      <th>PPE</th>\n",
              "    </tr>\n",
              "  </thead>\n",
              "  <tbody>\n",
              "    <tr>\n",
              "      <th>0</th>\n",
              "      <td>phon_R01_S01_1</td>\n",
              "      <td>119.992</td>\n",
              "      <td>157.302</td>\n",
              "      <td>74.997</td>\n",
              "      <td>0.00784</td>\n",
              "      <td>0.00007</td>\n",
              "      <td>0.00370</td>\n",
              "      <td>0.00554</td>\n",
              "      <td>0.01109</td>\n",
              "      <td>0.04374</td>\n",
              "      <td>0.426</td>\n",
              "      <td>0.02182</td>\n",
              "      <td>0.03130</td>\n",
              "      <td>0.02971</td>\n",
              "      <td>0.06545</td>\n",
              "      <td>0.02211</td>\n",
              "      <td>21.033</td>\n",
              "      <td>1</td>\n",
              "      <td>0.414783</td>\n",
              "      <td>0.815285</td>\n",
              "      <td>-4.813031</td>\n",
              "      <td>0.266482</td>\n",
              "      <td>2.301442</td>\n",
              "      <td>0.284654</td>\n",
              "    </tr>\n",
              "    <tr>\n",
              "      <th>1</th>\n",
              "      <td>phon_R01_S01_2</td>\n",
              "      <td>122.400</td>\n",
              "      <td>148.650</td>\n",
              "      <td>113.819</td>\n",
              "      <td>0.00968</td>\n",
              "      <td>0.00008</td>\n",
              "      <td>0.00465</td>\n",
              "      <td>0.00696</td>\n",
              "      <td>0.01394</td>\n",
              "      <td>0.06134</td>\n",
              "      <td>0.626</td>\n",
              "      <td>0.03134</td>\n",
              "      <td>0.04518</td>\n",
              "      <td>0.04368</td>\n",
              "      <td>0.09403</td>\n",
              "      <td>0.01929</td>\n",
              "      <td>19.085</td>\n",
              "      <td>1</td>\n",
              "      <td>0.458359</td>\n",
              "      <td>0.819521</td>\n",
              "      <td>-4.075192</td>\n",
              "      <td>0.335590</td>\n",
              "      <td>2.486855</td>\n",
              "      <td>0.368674</td>\n",
              "    </tr>\n",
              "    <tr>\n",
              "      <th>2</th>\n",
              "      <td>phon_R01_S01_3</td>\n",
              "      <td>116.682</td>\n",
              "      <td>131.111</td>\n",
              "      <td>111.555</td>\n",
              "      <td>0.01050</td>\n",
              "      <td>0.00009</td>\n",
              "      <td>0.00544</td>\n",
              "      <td>0.00781</td>\n",
              "      <td>0.01633</td>\n",
              "      <td>0.05233</td>\n",
              "      <td>0.482</td>\n",
              "      <td>0.02757</td>\n",
              "      <td>0.03858</td>\n",
              "      <td>0.03590</td>\n",
              "      <td>0.08270</td>\n",
              "      <td>0.01309</td>\n",
              "      <td>20.651</td>\n",
              "      <td>1</td>\n",
              "      <td>0.429895</td>\n",
              "      <td>0.825288</td>\n",
              "      <td>-4.443179</td>\n",
              "      <td>0.311173</td>\n",
              "      <td>2.342259</td>\n",
              "      <td>0.332634</td>\n",
              "    </tr>\n",
              "    <tr>\n",
              "      <th>3</th>\n",
              "      <td>phon_R01_S01_4</td>\n",
              "      <td>116.676</td>\n",
              "      <td>137.871</td>\n",
              "      <td>111.366</td>\n",
              "      <td>0.00997</td>\n",
              "      <td>0.00009</td>\n",
              "      <td>0.00502</td>\n",
              "      <td>0.00698</td>\n",
              "      <td>0.01505</td>\n",
              "      <td>0.05492</td>\n",
              "      <td>0.517</td>\n",
              "      <td>0.02924</td>\n",
              "      <td>0.04005</td>\n",
              "      <td>0.03772</td>\n",
              "      <td>0.08771</td>\n",
              "      <td>0.01353</td>\n",
              "      <td>20.644</td>\n",
              "      <td>1</td>\n",
              "      <td>0.434969</td>\n",
              "      <td>0.819235</td>\n",
              "      <td>-4.117501</td>\n",
              "      <td>0.334147</td>\n",
              "      <td>2.405554</td>\n",
              "      <td>0.368975</td>\n",
              "    </tr>\n",
              "    <tr>\n",
              "      <th>4</th>\n",
              "      <td>phon_R01_S01_5</td>\n",
              "      <td>116.014</td>\n",
              "      <td>141.781</td>\n",
              "      <td>110.655</td>\n",
              "      <td>0.01284</td>\n",
              "      <td>0.00011</td>\n",
              "      <td>0.00655</td>\n",
              "      <td>0.00908</td>\n",
              "      <td>0.01966</td>\n",
              "      <td>0.06425</td>\n",
              "      <td>0.584</td>\n",
              "      <td>0.03490</td>\n",
              "      <td>0.04825</td>\n",
              "      <td>0.04465</td>\n",
              "      <td>0.10470</td>\n",
              "      <td>0.01767</td>\n",
              "      <td>19.649</td>\n",
              "      <td>1</td>\n",
              "      <td>0.417356</td>\n",
              "      <td>0.823484</td>\n",
              "      <td>-3.747787</td>\n",
              "      <td>0.234513</td>\n",
              "      <td>2.332180</td>\n",
              "      <td>0.410335</td>\n",
              "    </tr>\n",
              "  </tbody>\n",
              "</table>\n",
              "</div>"
            ],
            "text/plain": [
              "             name  MDVP_Fo(Hz)  MDVP_Fhi(Hz)  ...   spread2        D2       PPE\n",
              "0  phon_R01_S01_1      119.992       157.302  ...  0.266482  2.301442  0.284654\n",
              "1  phon_R01_S01_2      122.400       148.650  ...  0.335590  2.486855  0.368674\n",
              "2  phon_R01_S01_3      116.682       131.111  ...  0.311173  2.342259  0.332634\n",
              "3  phon_R01_S01_4      116.676       137.871  ...  0.334147  2.405554  0.368975\n",
              "4  phon_R01_S01_5      116.014       141.781  ...  0.234513  2.332180  0.410335\n",
              "\n",
              "[5 rows x 24 columns]"
            ]
          },
          "metadata": {},
          "execution_count": 5
        }
      ]
    },
    {
      "cell_type": "code",
      "metadata": {
        "colab": {
          "base_uri": "https://localhost:8080/"
        },
        "id": "9l39qMZMnzqY",
        "outputId": "553b1319-0fa5-470c-94c3-bc366583dcfe"
      },
      "source": [
        "ps.shape"
      ],
      "execution_count": null,
      "outputs": [
        {
          "output_type": "execute_result",
          "data": {
            "text/plain": [
              "(195, 24)"
            ]
          },
          "metadata": {},
          "execution_count": 6
        }
      ]
    },
    {
      "cell_type": "code",
      "metadata": {
        "colab": {
          "base_uri": "https://localhost:8080/"
        },
        "id": "rEBhlnq-n1DB",
        "outputId": "6f958821-55a3-44ea-9477-5be3bbb92342"
      },
      "source": [
        "ps.isnull().sum().sum()"
      ],
      "execution_count": null,
      "outputs": [
        {
          "output_type": "execute_result",
          "data": {
            "text/plain": [
              "0"
            ]
          },
          "metadata": {},
          "execution_count": 7
        }
      ]
    },
    {
      "cell_type": "code",
      "metadata": {
        "colab": {
          "base_uri": "https://localhost:8080/"
        },
        "id": "NQcP3agr_ZZx",
        "outputId": "0f874c18-c2cb-4d88-9e78-cb80ea27ded8"
      },
      "source": [
        "ps.dtypes"
      ],
      "execution_count": null,
      "outputs": [
        {
          "output_type": "execute_result",
          "data": {
            "text/plain": [
              "name                        object\n",
              "MDVP_Fo(Hz)                float64\n",
              "MDVP_Fhi(Hz)               float64\n",
              "MDVP_Flo(Hz)               float64\n",
              "MDVP_Jitter(percentage)    float64\n",
              "MDVP_Jitter(Abs)           float64\n",
              "MDVP_RAP                   float64\n",
              "MDVP_PPQ                   float64\n",
              "Jitter_DDP                 float64\n",
              "MDVP_Shimmer               float64\n",
              "MDVP_Shimmer(dB)           float64\n",
              "Shimmer_APQ3               float64\n",
              "Shimmer_APQ5               float64\n",
              "MDVP_APQ                   float64\n",
              "Shimmer_DDA                float64\n",
              "NHR                        float64\n",
              "HNR                        float64\n",
              "status                       int64\n",
              "RPDE                       float64\n",
              "DFA                        float64\n",
              "spread1                    float64\n",
              "spread2                    float64\n",
              "D2                         float64\n",
              "PPE                        float64\n",
              "dtype: object"
            ]
          },
          "metadata": {},
          "execution_count": 8
        }
      ]
    },
    {
      "cell_type": "code",
      "metadata": {
        "colab": {
          "base_uri": "https://localhost:8080/"
        },
        "id": "g4b2V_mKn3yh",
        "outputId": "ec9d84a1-8122-4736-a0c4-c8906fd35fef"
      },
      "source": [
        "ps.info()"
      ],
      "execution_count": null,
      "outputs": [
        {
          "output_type": "stream",
          "name": "stdout",
          "text": [
            "<class 'pandas.core.frame.DataFrame'>\n",
            "RangeIndex: 195 entries, 0 to 194\n",
            "Data columns (total 24 columns):\n",
            " #   Column                   Non-Null Count  Dtype  \n",
            "---  ------                   --------------  -----  \n",
            " 0   name                     195 non-null    object \n",
            " 1   MDVP_Fo(Hz)              195 non-null    float64\n",
            " 2   MDVP_Fhi(Hz)             195 non-null    float64\n",
            " 3   MDVP_Flo(Hz)             195 non-null    float64\n",
            " 4   MDVP_Jitter(percentage)  195 non-null    float64\n",
            " 5   MDVP_Jitter(Abs)         195 non-null    float64\n",
            " 6   MDVP_RAP                 195 non-null    float64\n",
            " 7   MDVP_PPQ                 195 non-null    float64\n",
            " 8   Jitter_DDP               195 non-null    float64\n",
            " 9   MDVP_Shimmer             195 non-null    float64\n",
            " 10  MDVP_Shimmer(dB)         195 non-null    float64\n",
            " 11  Shimmer_APQ3             195 non-null    float64\n",
            " 12  Shimmer_APQ5             195 non-null    float64\n",
            " 13  MDVP_APQ                 195 non-null    float64\n",
            " 14  Shimmer_DDA              195 non-null    float64\n",
            " 15  NHR                      195 non-null    float64\n",
            " 16  HNR                      195 non-null    float64\n",
            " 17  status                   195 non-null    int64  \n",
            " 18  RPDE                     195 non-null    float64\n",
            " 19  DFA                      195 non-null    float64\n",
            " 20  spread1                  195 non-null    float64\n",
            " 21  spread2                  195 non-null    float64\n",
            " 22  D2                       195 non-null    float64\n",
            " 23  PPE                      195 non-null    float64\n",
            "dtypes: float64(22), int64(1), object(1)\n",
            "memory usage: 36.7+ KB\n"
          ]
        }
      ]
    },
    {
      "cell_type": "code",
      "metadata": {
        "colab": {
          "base_uri": "https://localhost:8080/"
        },
        "id": "M8jTKRPkohxn",
        "outputId": "9449c3b7-0f06-4d0b-c180-f86e02a326f0"
      },
      "source": [
        "from collections import Counter\n",
        "Counter(ps[\"status\"])"
      ],
      "execution_count": null,
      "outputs": [
        {
          "output_type": "execute_result",
          "data": {
            "text/plain": [
              "Counter({0: 48, 1: 147})"
            ]
          },
          "metadata": {},
          "execution_count": 10
        }
      ]
    },
    {
      "cell_type": "code",
      "metadata": {
        "id": "p0Xe7UIQhP6U"
      },
      "source": [
        "ps = ps.drop(columns=[\"name\"], axis=1)"
      ],
      "execution_count": null,
      "outputs": []
    },
    {
      "cell_type": "markdown",
      "metadata": {
        "id": "qcxVCxBnp2qk"
      },
      "source": [
        "**Column Attributes**\n",
        "\n",
        "*   name - ASCII subject name and recording number item\n",
        "*   MDVP:Fo(Hz) - Average vocal fundamental frequency\n",
        "*   MDVP:Fhi(Hz) - Maximum vocal fundamental frequency\n",
        "*   MDVP:Flo(Hz) - Minimum vocal fundamental frequency\n",
        "*   MDVP:Jitter(%),MDVP:Jitter(Abs),MDVP:RAP,MDVP:PPQ,Jitter:DDP - Several measures of variation in fundamental frequency\n",
        "*   MDVP:Shimmer,MDVP:Shimmer(dB),Shimmer:APQ3,Shimmer:APQ5,MDVP:APQ,Shimmer:DDA - Several measures of variation in amplitude\n",
        "*   NHR,HNR - Two measures of ratio of noise to tonal components in the voice\n",
        "*   status - Health status of the subject (one) - Parkinson's, (zero) - healthy\n",
        "*   RPDE,D2 - Two nonlinear dynamical complexity measures\n",
        "*   DFA - Signal fractal scaling exponent\n",
        "*   spread1,spread2,PPE - Three nonlinear measures of fundamental frequency variation\n"
      ]
    },
    {
      "cell_type": "markdown",
      "metadata": {
        "id": "zsG11Th5yRKG"
      },
      "source": [
        "##### **Dataset visualizations**"
      ]
    },
    {
      "cell_type": "code",
      "metadata": {
        "id": "AIEfMWlroolQ"
      },
      "source": [
        "import matplotlib.pyplot as plt\n",
        "import seaborn as sns"
      ],
      "execution_count": null,
      "outputs": []
    },
    {
      "cell_type": "code",
      "metadata": {
        "colab": {
          "base_uri": "https://localhost:8080/"
        },
        "id": "1vdeh--eyfn9",
        "outputId": "31dc9f17-01ed-4616-bcb6-e3410df5623e"
      },
      "source": [
        "plt.hist(ps[\"MDVP_Fo(Hz)\"])"
      ],
      "execution_count": null,
      "outputs": [
        {
          "output_type": "execute_result",
          "data": {
            "text/plain": [
              "(array([12., 54., 20., 31., 17., 18., 21.,  8.,  9.,  5.]),\n",
              " array([ 88.333 , 105.5102, 122.6874, 139.8646, 157.0418, 174.219 ,\n",
              "        191.3962, 208.5734, 225.7506, 242.9278, 260.105 ]),\n",
              " <a list of 10 Patch objects>)"
            ]
          },
          "metadata": {},
          "execution_count": 13
        },
        {
          "output_type": "display_data",
          "data": {
            "image/png": "[encoded data removed]",
            "text/plain": [
              "<Figure size 432x288 with 1 Axes>"
            ]
          },
          "metadata": {
            "needs_background": "light"
          }
        }
      ]
    },
    {
      "cell_type": "code",
      "metadata": {
        "colab": {
          "base_uri": "https://localhost:8080/"
        },
        "id": "xSo93lqAymgl",
        "outputId": "4593100b-677d-4fb4-effa-92e0dff790b9"
      },
      "source": [
        "plt.hist(ps[\"MDVP_Fhi(Hz)\"])"
      ],
      "execution_count": null,
      "outputs": [
        {
          "output_type": "execute_result",
          "data": {
            "text/plain": [
              "(array([69., 47., 53., 14.,  0.,  1.,  3.,  3.,  0.,  5.]),\n",
              " array([102.145 , 151.1335, 200.122 , 249.1105, 298.099 , 347.0875,\n",
              "        396.076 , 445.0645, 494.053 , 543.0415, 592.03  ]),\n",
              " <a list of 10 Patch objects>)"
            ]
          },
          "metadata": {},
          "execution_count": 14
        },
        {
          "output_type": "display_data",
          "data": {
            "image/png": "[encoded data removed]",
            "text/plain": [
              "<Figure size 432x288 with 1 Axes>"
            ]
          },
          "metadata": {
            "needs_background": "light"
          }
        }
      ]
    },
    {
      "cell_type": "code",
      "metadata": {
        "id": "qkqlRxaPzvNO"
      },
      "source": [
        ""
      ],
      "execution_count": null,
      "outputs": []
    },
    {
      "cell_type": "markdown",
      "metadata": {
        "id": "wFrbZ_cUgcRa"
      },
      "source": [
        "##### **Scaling**"
      ]
    },
    {
      "cell_type": "code",
      "metadata": {
        "id": "tzWOtXfbgiU6"
      },
      "source": [
        "from sklearn.preprocessing import StandardScaler\n",
        "\n",
        "X = ps.drop(columns=[\"status\"], axis=1)\n",
        "y = ps.status\n",
        "\n",
        "stdscaler = StandardScaler()\n",
        "scaled_features = stdscaler.fit_transform(X)\n",
        "scaled_features_df = pd.DataFrame(scaled_features, columns = X.columns)"
      ],
      "execution_count": null,
      "outputs": []
    },
    {
      "cell_type": "code",
      "metadata": {
        "id": "MP4Qk6LwBpwa"
      },
      "source": [
        "ps = scaled_features_df.join(y)"
      ],
      "execution_count": null,
      "outputs": []
    },
    {
      "cell_type": "code",
      "metadata": {
        "colab": {
          "base_uri": "https://localhost:8080/"
        },
        "id": "yRWRIiNqBO60",
        "outputId": "55742fd7-3370-4f99-a854-84d286d0e9c0"
      },
      "source": [
        "ps.head()"
      ],
      "execution_count": null,
      "outputs": [
        {
          "output_type": "execute_result",
          "data": {
            "text/html": [
              "<div>\n",
              "<style scoped>\n",
              "    .dataframe tbody tr th:only-of-type {\n",
              "        vertical-align: middle;\n",
              "    }\n",
              "\n",
              "    .dataframe tbody tr th {\n",
              "        vertical-align: top;\n",
              "    }\n",
              "\n",
              "    .dataframe thead th {\n",
              "        text-align: right;\n",
              "    }\n",
              "</style>\n",
              "<table border=\"1\" class=\"dataframe\">\n",
              "  <thead>\n",
              "    <tr style=\"text-align: right;\">\n",
              "      <th></th>\n",
              "      <th>MDVP_Fo(Hz)</th>\n",
              "      <th>MDVP_Fhi(Hz)</th>\n",
              "      <th>MDVP_Flo(Hz)</th>\n",
              "      <th>MDVP_Jitter(percentage)</th>\n",
              "      <th>MDVP_Jitter(Abs)</th>\n",
              "      <th>MDVP_RAP</th>\n",
              "      <th>MDVP_PPQ</th>\n",
              "      <th>Jitter_DDP</th>\n",
              "      <th>MDVP_Shimmer</th>\n",
              "      <th>MDVP_Shimmer(dB)</th>\n",
              "      <th>Shimmer_APQ3</th>\n",
              "      <th>Shimmer_APQ5</th>\n",
              "      <th>MDVP_APQ</th>\n",
              "      <th>Shimmer_DDA</th>\n",
              "      <th>NHR</th>\n",
              "      <th>HNR</th>\n",
              "      <th>RPDE</th>\n",
              "      <th>DFA</th>\n",
              "      <th>spread1</th>\n",
              "      <th>spread2</th>\n",
              "      <th>D2</th>\n",
              "      <th>PPE</th>\n",
              "      <th>status</th>\n",
              "    </tr>\n",
              "  </thead>\n",
              "  <tbody>\n",
              "    <tr>\n",
              "      <th>0</th>\n",
              "      <td>-0.829300</td>\n",
              "      <td>-0.436165</td>\n",
              "      <td>-0.952037</td>\n",
              "      <td>0.334914</td>\n",
              "      <td>0.749759</td>\n",
              "      <td>0.132963</td>\n",
              "      <td>0.760800</td>\n",
              "      <td>0.131755</td>\n",
              "      <td>0.745985</td>\n",
              "      <td>0.739536</td>\n",
              "      <td>0.607859</td>\n",
              "      <td>1.119147</td>\n",
              "      <td>0.332985</td>\n",
              "      <td>0.607532</td>\n",
              "      <td>-0.067893</td>\n",
              "      <td>-0.193225</td>\n",
              "      <td>-0.807838</td>\n",
              "      <td>1.760814</td>\n",
              "      <td>0.801323</td>\n",
              "      <td>0.480477</td>\n",
              "      <td>-0.210531</td>\n",
              "      <td>0.868886</td>\n",
              "      <td>1</td>\n",
              "    </tr>\n",
              "    <tr>\n",
              "      <th>1</th>\n",
              "      <td>-0.770972</td>\n",
              "      <td>-0.530974</td>\n",
              "      <td>-0.057721</td>\n",
              "      <td>0.715418</td>\n",
              "      <td>1.037674</td>\n",
              "      <td>0.453892</td>\n",
              "      <td>1.276809</td>\n",
              "      <td>0.452684</td>\n",
              "      <td>1.681731</td>\n",
              "      <td>1.768464</td>\n",
              "      <td>1.547912</td>\n",
              "      <td>2.276504</td>\n",
              "      <td>1.159454</td>\n",
              "      <td>1.548254</td>\n",
              "      <td>-0.137843</td>\n",
              "      <td>-0.634508</td>\n",
              "      <td>-0.387524</td>\n",
              "      <td>1.837562</td>\n",
              "      <td>1.479853</td>\n",
              "      <td>1.311185</td>\n",
              "      <td>0.275077</td>\n",
              "      <td>1.803605</td>\n",
              "      <td>1</td>\n",
              "    </tr>\n",
              "    <tr>\n",
              "      <th>2</th>\n",
              "      <td>-0.909476</td>\n",
              "      <td>-0.723168</td>\n",
              "      <td>-0.109875</td>\n",
              "      <td>0.884991</td>\n",
              "      <td>1.325589</td>\n",
              "      <td>0.720770</td>\n",
              "      <td>1.585687</td>\n",
              "      <td>0.721813</td>\n",
              "      <td>1.202693</td>\n",
              "      <td>1.027636</td>\n",
              "      <td>1.175643</td>\n",
              "      <td>1.726176</td>\n",
              "      <td>0.699187</td>\n",
              "      <td>1.175323</td>\n",
              "      <td>-0.291633</td>\n",
              "      <td>-0.279760</td>\n",
              "      <td>-0.662075</td>\n",
              "      <td>1.942048</td>\n",
              "      <td>1.141445</td>\n",
              "      <td>1.017682</td>\n",
              "      <td>-0.103629</td>\n",
              "      <td>1.402661</td>\n",
              "      <td>1</td>\n",
              "    </tr>\n",
              "    <tr>\n",
              "      <th>3</th>\n",
              "      <td>-0.909622</td>\n",
              "      <td>-0.649092</td>\n",
              "      <td>-0.114229</td>\n",
              "      <td>0.775389</td>\n",
              "      <td>1.325589</td>\n",
              "      <td>0.578885</td>\n",
              "      <td>1.284076</td>\n",
              "      <td>0.577677</td>\n",
              "      <td>1.340396</td>\n",
              "      <td>1.207698</td>\n",
              "      <td>1.340547</td>\n",
              "      <td>1.848749</td>\n",
              "      <td>0.806859</td>\n",
              "      <td>1.340229</td>\n",
              "      <td>-0.280719</td>\n",
              "      <td>-0.281346</td>\n",
              "      <td>-0.613134</td>\n",
              "      <td>1.832380</td>\n",
              "      <td>1.440945</td>\n",
              "      <td>1.293840</td>\n",
              "      <td>0.062145</td>\n",
              "      <td>1.806954</td>\n",
              "      <td>1</td>\n",
              "    </tr>\n",
              "    <tr>\n",
              "      <th>4</th>\n",
              "      <td>-0.925657</td>\n",
              "      <td>-0.606245</td>\n",
              "      <td>-0.130608</td>\n",
              "      <td>1.368893</td>\n",
              "      <td>1.901418</td>\n",
              "      <td>1.095750</td>\n",
              "      <td>2.047187</td>\n",
              "      <td>1.096793</td>\n",
              "      <td>1.836448</td>\n",
              "      <td>1.552389</td>\n",
              "      <td>1.899444</td>\n",
              "      <td>2.532491</td>\n",
              "      <td>1.216839</td>\n",
              "      <td>1.899461</td>\n",
              "      <td>-0.178026</td>\n",
              "      <td>-0.506745</td>\n",
              "      <td>-0.783021</td>\n",
              "      <td>1.909364</td>\n",
              "      <td>1.780940</td>\n",
              "      <td>0.096195</td>\n",
              "      <td>-0.130026</td>\n",
              "      <td>2.267082</td>\n",
              "      <td>1</td>\n",
              "    </tr>\n",
              "  </tbody>\n",
              "</table>\n",
              "</div>"
            ],
            "text/plain": [
              "   MDVP_Fo(Hz)  MDVP_Fhi(Hz)  MDVP_Flo(Hz)  ...        D2       PPE  status\n",
              "0    -0.829300     -0.436165     -0.952037  ... -0.210531  0.868886       1\n",
              "1    -0.770972     -0.530974     -0.057721  ...  0.275077  1.803605       1\n",
              "2    -0.909476     -0.723168     -0.109875  ... -0.103629  1.402661       1\n",
              "3    -0.909622     -0.649092     -0.114229  ...  0.062145  1.806954       1\n",
              "4    -0.925657     -0.606245     -0.130608  ... -0.130026  2.267082       1\n",
              "\n",
              "[5 rows x 23 columns]"
            ]
          },
          "metadata": {},
          "execution_count": 17
        }
      ]
    },
    {
      "cell_type": "code",
      "metadata": {
        "colab": {
          "base_uri": "https://localhost:8080/"
        },
        "id": "78aDUYdsEWV0",
        "outputId": "ece8c0ae-b8a5-42b9-99af-fb38e5b3d8cf"
      },
      "source": [
        "ps.isna().sum().sum()"
      ],
      "execution_count": null,
      "outputs": [
        {
          "output_type": "execute_result",
          "data": {
            "text/plain": [
              "0"
            ]
          },
          "metadata": {},
          "execution_count": 18
        }
      ]
    },
    {
      "cell_type": "markdown",
      "metadata": {
        "id": "h32Y-oCMhfQK"
      },
      "source": [
        "##### **Train-Test-Split**"
      ]
    },
    {
      "cell_type": "code",
      "metadata": {
        "id": "EjWTR1h3hDVl"
      },
      "source": [
        "from sklearn.model_selection import train_test_split\n",
        "\n",
        "X_train, X_test, y_train, y_test = train_test_split(X, y, test_size=0.3, random_state=10)"
      ],
      "execution_count": null,
      "outputs": []
    },
    {
      "cell_type": "code",
      "metadata": {
        "colab": {
          "base_uri": "https://localhost:8080/"
        },
        "id": "5-wiwGuHh4Gp",
        "outputId": "e520f85d-0a69-4608-a1c0-21a1b57b5e0f"
      },
      "source": [
        "X_train.shape, X_test.shape, y_train.shape, y_test.shape"
      ],
      "execution_count": null,
      "outputs": [
        {
          "output_type": "execute_result",
          "data": {
            "text/plain": [
              "((136, 22), (59, 22), (136,), (59,))"
            ]
          },
          "metadata": {},
          "execution_count": 20
        }
      ]
    },
    {
      "cell_type": "markdown",
      "metadata": {
        "id": "ScOZ_2sFiSBm"
      },
      "source": [
        "##### **Linear Regression**"
      ]
    },
    {
      "cell_type": "code",
      "metadata": {
        "colab": {
          "base_uri": "https://localhost:8080/"
        },
        "id": "cIiAYbvsippC",
        "outputId": "555eeb1e-bf9f-4e2a-b1d4-6c74a257539a"
      },
      "source": [
        "from sklearn.linear_model import LinearRegression\n",
        "\n",
        "linear = LinearRegression()\n",
        "\n",
        "linear.fit(X_train, y_train)"
      ],
      "execution_count": null,
      "outputs": [
        {
          "output_type": "execute_result",
          "data": {
            "text/plain": [
              "LinearRegression()"
            ]
          },
          "metadata": {},
          "execution_count": 21
        }
      ]
    },
    {
      "cell_type": "code",
      "metadata": {
        "id": "fp-1rO-8jxpR"
      },
      "source": [
        "# prediction\n",
        "\n",
        "y_pred = linear.predict(X_test)"
      ],
      "execution_count": null,
      "outputs": []
    },
    {
      "cell_type": "code",
      "metadata": {
        "colab": {
          "base_uri": "https://localhost:8080/"
        },
        "id": "tiOgKSfZj8qL",
        "outputId": "353196ec-9bf6-48e8-9d92-62458c086d6e"
      },
      "source": [
        "y_pred"
      ],
      "execution_count": null,
      "outputs": [
        {
          "output_type": "execute_result",
          "data": {
            "text/plain": [
              "array([ 0.43033102,  0.94605859,  1.14368342,  1.00901774,  0.32692501,\n",
              "        0.99771041,  0.54450172,  0.64415281,  0.8615537 ,  0.90496438,\n",
              "        0.57425697,  1.01749661,  0.96710897,  1.05360686,  0.55416711,\n",
              "        0.28937916,  1.07506108,  0.88480138,  0.58694858,  0.89060226,\n",
              "        1.17120625,  0.55632034,  0.40796751,  0.77801702,  0.96969239,\n",
              "        0.78962277,  0.94341001,  1.06833549, -0.01559358,  0.0954814 ,\n",
              "        0.88043804,  0.75489811,  1.00866281,  0.14456458,  0.24133406,\n",
              "        0.70588443,  0.56484986,  0.98998604,  0.08440991,  0.68555533,\n",
              "        0.67134249,  0.59500217,  0.84745379,  1.15414115,  0.64092664,\n",
              "        0.82140909,  0.99668013,  0.57524173,  0.75932344,  1.14162667,\n",
              "        0.82767855,  0.19812014,  0.88384756,  1.33018187,  0.91726747,\n",
              "        0.48686902,  0.77155755,  0.83930459,  0.91889386])"
            ]
          },
          "metadata": {},
          "execution_count": 23
        }
      ]
    },
    {
      "cell_type": "code",
      "metadata": {
        "colab": {
          "base_uri": "https://localhost:8080/"
        },
        "id": "LcoqY87mj-rL",
        "outputId": "80b84abd-ead9-4e3d-bf37-11af80cdda41"
      },
      "source": [
        "# classification metrics\n",
        "\n",
        "from sklearn.metrics import accuracy_score, confusion_matrix, classification_report\n",
        "\n",
        "print(\"1. Accuracy Score of  - \", accuracy_score(y_pred.round(), y_test))\n",
        "print(\"\\n\")\n",
        "print(\"2. Confusion Matrix - \\n\", confusion_matrix(y_pred.round(), y_test))\n",
        "print(\"\\n\")\n",
        "print(\"3. Classification_report - \\n\\n\", classification_report(y_pred.round(), y_test))"
      ],
      "execution_count": null,
      "outputs": [
        {
          "output_type": "stream",
          "name": "stdout",
          "text": [
            "1. Accuracy Score of  -  0.8813559322033898\n",
            "\n",
            "\n",
            "2. Confusion Matrix - \n",
            " [[10  1]\n",
            " [ 6 42]]\n",
            "\n",
            "\n",
            "3. Classification_report - \n",
            "\n",
            "               precision    recall  f1-score   support\n",
            "\n",
            "         0.0       0.62      0.91      0.74        11\n",
            "         1.0       0.98      0.88      0.92        48\n",
            "\n",
            "    accuracy                           0.88        59\n",
            "   macro avg       0.80      0.89      0.83        59\n",
            "weighted avg       0.91      0.88      0.89        59\n",
            "\n"
          ]
        }
      ]
    },
    {
      "cell_type": "markdown",
      "metadata": {
        "id": "AnJ3Fl1YX0k_"
      },
      "source": [
        "Confusion Matrix:\n",
        "\n",
        "*   TP FP\n",
        "*   FN TN\n",
        "\n"
      ]
    },
    {
      "cell_type": "code",
      "metadata": {
        "colab": {
          "base_uri": "https://localhost:8080/"
        },
        "id": "zLmOlJFvwo3c",
        "outputId": "84b3c79d-8099-426f-e114-dbb06b40efc4"
      },
      "source": [
        "linear.score(X_test, y_pred.round())"
      ],
      "execution_count": null,
      "outputs": [
        {
          "output_type": "execute_result",
          "data": {
            "text/plain": [
              "0.5926322444292089"
            ]
          },
          "metadata": {},
          "execution_count": 25
        }
      ]
    },
    {
      "cell_type": "code",
      "metadata": {
        "colab": {
          "base_uri": "https://localhost:8080/"
        },
        "id": "FefSblAFxIK5",
        "outputId": "b3859a8e-4f69-41ce-e72b-ec72a34db886"
      },
      "source": [
        "linear.score(X_test, y_pred.round())"
      ],
      "execution_count": null,
      "outputs": [
        {
          "output_type": "execute_result",
          "data": {
            "text/plain": [
              "0.5926322444292089"
            ]
          },
          "metadata": {},
          "execution_count": 26
        }
      ]
    },
    {
      "cell_type": "code",
      "metadata": {
        "colab": {
          "base_uri": "https://localhost:8080/"
        },
        "id": "oCaNAC4iw76P",
        "outputId": "4d339c1a-59dd-42ed-dcee-9933749dbd5f"
      },
      "source": [
        "y_test.shape, y_pred.round().shape"
      ],
      "execution_count": null,
      "outputs": [
        {
          "output_type": "execute_result",
          "data": {
            "text/plain": [
              "((59,), (59,))"
            ]
          },
          "metadata": {},
          "execution_count": 27
        }
      ]
    },
    {
      "cell_type": "code",
      "metadata": {
        "id": "-0v2U8eDXqMq"
      },
      "source": [
        "# for i,j in enumerate(y_pred):\n",
        "#   if "
      ],
      "execution_count": null,
      "outputs": []
    },
    {
      "cell_type": "code",
      "metadata": {
        "colab": {
          "base_uri": "https://localhost:8080/"
        },
        "id": "Q-p8v8ammiok",
        "outputId": "1075097e-4b92-412b-c92e-bae214459612"
      },
      "source": [
        "import numpy as np\n",
        "o = [0.77, 4.65, 0.56, 0.51]\n",
        "k = np.array(o)\n",
        "k.round()"
      ],
      "execution_count": null,
      "outputs": [
        {
          "output_type": "execute_result",
          "data": {
            "text/plain": [
              "array([1., 5., 1., 1.])"
            ]
          },
          "metadata": {},
          "execution_count": 29
        }
      ]
    },
    {
      "cell_type": "code",
      "metadata": {
        "colab": {
          "base_uri": "https://localhost:8080/"
        },
        "id": "L0g9nMjrKpQd",
        "outputId": "b30ae023-8628-4ee6-80cc-636e1a854eab"
      },
      "source": [
        "Counter(y_test)"
      ],
      "execution_count": null,
      "outputs": [
        {
          "output_type": "execute_result",
          "data": {
            "text/plain": [
              "Counter({0: 16, 1: 43})"
            ]
          },
          "metadata": {},
          "execution_count": 30
        }
      ]
    },
    {
      "cell_type": "code",
      "metadata": {
        "colab": {
          "base_uri": "https://localhost:8080/"
        },
        "id": "vVpJgDv4KpWt",
        "outputId": "78cdd432-c406-4db5-d002-fdd2606fbf3c"
      },
      "source": [
        "Counter(y_pred.round())"
      ],
      "execution_count": null,
      "outputs": [
        {
          "output_type": "execute_result",
          "data": {
            "text/plain": [
              "Counter({0.0: 11, 1.0: 48})"
            ]
          },
          "metadata": {},
          "execution_count": 31
        }
      ]
    },
    {
      "cell_type": "markdown",
      "metadata": {
        "id": "VFmx3cEBnbL0"
      },
      "source": [
        "*   **43 cases of Parkinson's in test data**\n",
        "*   **48 cases of Parkinson's in pred data**\n",
        "\n",
        "\n",
        "\n",
        "*   **16 cases of non-Parkinson's in test data**\n",
        "*   **11 cases of non-Parkinson's in pred data**\n",
        "\n"
      ]
    },
    {
      "cell_type": "code",
      "metadata": {
        "colab": {
          "base_uri": "https://localhost:8080/"
        },
        "id": "2mX5Z4yzniFF",
        "outputId": "421c4c90-54cf-4d4b-9064-6f87effc9cc4"
      },
      "source": [
        "Counter(np.abs(y_test - y_pred.round()))"
      ],
      "execution_count": null,
      "outputs": [
        {
          "output_type": "execute_result",
          "data": {
            "text/plain": [
              "Counter({0.0: 52, 1.0: 7})"
            ]
          },
          "metadata": {},
          "execution_count": 32
        }
      ]
    },
    {
      "cell_type": "markdown",
      "metadata": {
        "id": "ZK2OxlHSuiYO"
      },
      "source": [
        "**As said theoretically, linear regression don't do well on non-linear variables**"
      ]
    },
    {
      "cell_type": "markdown",
      "metadata": {
        "id": "6ehdkPFLwa6L"
      },
      "source": [
        "**Check these** \n",
        "\n",
        "\n",
        "*   https://stats.stackexchange.com/questions/405961/is-there-formal-test-of-non-linearity-in-linear-regression\n",
        "*   https://www.pluralsight.com/guides/non-linear-regression-trees-scikit-learn"
      ]
    },
    {
      "cell_type": "markdown",
      "metadata": {
        "id": "0nPu2od6uKDv"
      },
      "source": [
        "##### **Logistic Regression**"
      ]
    },
    {
      "cell_type": "code",
      "metadata": {
        "id": "0_vEQuKeJlSI",
        "colab": {
          "base_uri": "https://localhost:8080/"
        },
        "outputId": "b7676034-2728-49ac-efa2-34fc79d9ee0f"
      },
      "source": [
        "from sklearn.linear_model import LogisticRegression\n",
        "\n",
        "logistic = LogisticRegression()\n",
        "\n",
        "logistic.fit(X_train, y_train)"
      ],
      "execution_count": null,
      "outputs": [
        {
          "output_type": "stream",
          "name": "stderr",
          "text": [
            "/usr/local/lib/python3.7/dist-packages/sklearn/linear_model/_logistic.py:818: ConvergenceWarning: lbfgs failed to converge (status=1):\n",
            "STOP: TOTAL NO. of ITERATIONS REACHED LIMIT.\n",
            "\n",
            "Increase the number of iterations (max_iter) or scale the data as shown in:\n",
            "    https://scikit-learn.org/stable/modules/preprocessing.html\n",
            "Please also refer to the documentation for alternative solver options:\n",
            "    https://scikit-learn.org/stable/modules/linear_model.html#logistic-regression\n",
            "  extra_warning_msg=_LOGISTIC_SOLVER_CONVERGENCE_MSG,\n"
          ]
        },
        {
          "output_type": "execute_result",
          "data": {
            "text/plain": [
              "LogisticRegression()"
            ]
          },
          "metadata": {},
          "execution_count": 33
        }
      ]
    },
    {
      "cell_type": "code",
      "metadata": {
        "id": "QKrKlNPVx6iN"
      },
      "source": [
        "# Prediction\n",
        "\n",
        "y_pred = logistic.predict(X_test)"
      ],
      "execution_count": null,
      "outputs": []
    },
    {
      "cell_type": "code",
      "metadata": {
        "colab": {
          "base_uri": "https://localhost:8080/"
        },
        "id": "O0jb_s1syBMF",
        "outputId": "8bac4e0d-1991-493c-ae99-9693235cc798"
      },
      "source": [
        "y_pred"
      ],
      "execution_count": null,
      "outputs": [
        {
          "output_type": "execute_result",
          "data": {
            "text/plain": [
              "array([1, 1, 1, 1, 0, 1, 0, 1, 1, 1, 1, 1, 1, 1, 1, 0, 1, 1, 0, 1, 1, 1,\n",
              "       1, 1, 1, 1, 1, 1, 0, 0, 1, 1, 1, 0, 0, 1, 0, 1, 0, 1, 1, 1, 1, 1,\n",
              "       1, 1, 1, 1, 1, 1, 1, 0, 1, 1, 1, 1, 1, 1, 1])"
            ]
          },
          "metadata": {},
          "execution_count": 35
        }
      ]
    },
    {
      "cell_type": "code",
      "metadata": {
        "colab": {
          "base_uri": "https://localhost:8080/"
        },
        "id": "pKG3d0QayBwk",
        "outputId": "e9629ed7-1bb2-4668-f2e0-e652df70001b"
      },
      "source": [
        "# Classification Report\n",
        "\n",
        "# classification metrics\n",
        "\n",
        "from sklearn.metrics import accuracy_score, confusion_matrix, classification_report\n",
        "\n",
        "print(\"1. Accuracy Score of  - \", accuracy_score(y_pred, y_test))\n",
        "print(\"\\n\")\n",
        "print(\"2. Confusion Matrix - \\n\", confusion_matrix(y_pred, y_test))\n",
        "print(\"\\n\")\n",
        "print(\"3. Classification_report - \\n\\n\", classification_report(y_pred, y_test))"
      ],
      "execution_count": null,
      "outputs": [
        {
          "output_type": "stream",
          "name": "stdout",
          "text": [
            "1. Accuracy Score of  -  0.8813559322033898\n",
            "\n",
            "\n",
            "2. Confusion Matrix - \n",
            " [[10  1]\n",
            " [ 6 42]]\n",
            "\n",
            "\n",
            "3. Classification_report - \n",
            "\n",
            "               precision    recall  f1-score   support\n",
            "\n",
            "           0       0.62      0.91      0.74        11\n",
            "           1       0.98      0.88      0.92        48\n",
            "\n",
            "    accuracy                           0.88        59\n",
            "   macro avg       0.80      0.89      0.83        59\n",
            "weighted avg       0.91      0.88      0.89        59\n",
            "\n"
          ]
        }
      ]
    },
    {
      "cell_type": "code",
      "metadata": {
        "colab": {
          "base_uri": "https://localhost:8080/"
        },
        "id": "chHqUOw_yMro",
        "outputId": "7420c64a-87f7-4796-db65-687aa67113f7"
      },
      "source": [
        "logistic.score(X_test, y_test)"
      ],
      "execution_count": null,
      "outputs": [
        {
          "output_type": "execute_result",
          "data": {
            "text/plain": [
              "0.8813559322033898"
            ]
          },
          "metadata": {},
          "execution_count": 37
        }
      ]
    },
    {
      "cell_type": "code",
      "metadata": {
        "id": "PDsqdoRDyS9G"
      },
      "source": [
        ""
      ],
      "execution_count": null,
      "outputs": []
    },
    {
      "cell_type": "markdown",
      "metadata": {
        "id": "auQOL9fFyYaI"
      },
      "source": [
        "**Non-Linear Regression**\n",
        "\n",
        "\n",
        "\n",
        "*   DT\n",
        "*   RF\n",
        "*   SVM\n",
        "*   kNN\n",
        "\n",
        "\n",
        "\n"
      ]
    },
    {
      "cell_type": "markdown",
      "metadata": {
        "id": "Pqih529tyvwn"
      },
      "source": [
        "##### **Support Vector Machines**"
      ]
    },
    {
      "cell_type": "code",
      "metadata": {
        "id": "imuVqpyTytqS",
        "colab": {
          "base_uri": "https://localhost:8080/"
        },
        "outputId": "56c0cb97-ce99-422f-9647-4c31de60f796"
      },
      "source": [
        "from sklearn.svm import SVC\n",
        "\n",
        "svm = SVC()\n",
        "svm.fit(X_train, y_train)"
      ],
      "execution_count": null,
      "outputs": [
        {
          "output_type": "execute_result",
          "data": {
            "text/plain": [
              "SVC()"
            ]
          },
          "metadata": {},
          "execution_count": 38
        }
      ]
    },
    {
      "cell_type": "code",
      "metadata": {
        "id": "ktuOjwIBDcVG"
      },
      "source": [
        "# Prediction\n",
        "\n",
        "y_pred = svm.predict(X_test)"
      ],
      "execution_count": null,
      "outputs": []
    },
    {
      "cell_type": "code",
      "metadata": {
        "id": "JolAbpGoeYZm"
      },
      "source": [
        ""
      ],
      "execution_count": null,
      "outputs": []
    },
    {
      "cell_type": "code",
      "metadata": {
        "colab": {
          "base_uri": "https://localhost:8080/"
        },
        "id": "A_9C2EaoDhy1",
        "outputId": "4f0a787d-87d2-4e95-9ef4-d926ece890a4"
      },
      "source": [
        "y_pred"
      ],
      "execution_count": null,
      "outputs": [
        {
          "output_type": "execute_result",
          "data": {
            "text/plain": [
              "array([1, 1, 1, 1, 1, 1, 1, 1, 1, 1, 1, 1, 1, 1, 1, 1, 1, 1, 1, 1, 1, 1,\n",
              "       1, 1, 1, 1, 1, 1, 1, 0, 1, 1, 1, 0, 1, 1, 1, 1, 0, 1, 1, 1, 1, 1,\n",
              "       1, 1, 1, 1, 1, 1, 1, 0, 1, 1, 1, 1, 1, 1, 1])"
            ]
          },
          "metadata": {},
          "execution_count": 40
        }
      ]
    },
    {
      "cell_type": "code",
      "metadata": {
        "colab": {
          "base_uri": "https://localhost:8080/"
        },
        "id": "ev22-gH8DoUq",
        "outputId": "f4e62507-62e6-4b54-c832-7437815d2ddd"
      },
      "source": [
        "# classification metrics\n",
        "\n",
        "from sklearn.metrics import accuracy_score, confusion_matrix, classification_report\n",
        "\n",
        "print(\"1. Accuracy Score of  - \", accuracy_score(y_pred, y_test))\n",
        "print(\"\\n\")\n",
        "print(\"2. Confusion Matrix - \\n\", confusion_matrix(y_pred, y_test))\n",
        "print(\"\\n\")\n",
        "print(\"3. Classification_report - \\n\\n\", classification_report(y_pred, y_test))"
      ],
      "execution_count": null,
      "outputs": [
        {
          "output_type": "stream",
          "name": "stdout",
          "text": [
            "1. Accuracy Score of  -  0.7966101694915254\n",
            "\n",
            "\n",
            "2. Confusion Matrix - \n",
            " [[ 4  0]\n",
            " [12 43]]\n",
            "\n",
            "\n",
            "3. Classification_report - \n",
            "\n",
            "               precision    recall  f1-score   support\n",
            "\n",
            "           0       0.25      1.00      0.40         4\n",
            "           1       1.00      0.78      0.88        55\n",
            "\n",
            "    accuracy                           0.80        59\n",
            "   macro avg       0.62      0.89      0.64        59\n",
            "weighted avg       0.95      0.80      0.85        59\n",
            "\n"
          ]
        }
      ]
    },
    {
      "cell_type": "code",
      "metadata": {
        "colab": {
          "base_uri": "https://localhost:8080/"
        },
        "id": "PQltN7avDz8U",
        "outputId": "40211a8e-237c-490e-a342-0ffdfd4db087"
      },
      "source": [
        "svm.score(X_test, y_test)"
      ],
      "execution_count": null,
      "outputs": [
        {
          "output_type": "execute_result",
          "data": {
            "text/plain": [
              "0.7966101694915254"
            ]
          },
          "metadata": {},
          "execution_count": 42
        }
      ]
    },
    {
      "cell_type": "markdown",
      "metadata": {
        "id": "hiXyUjXHejbD"
      },
      "source": [
        "**Hyperparameter Tuning with the aid of GridSearchCV**"
      ]
    },
    {
      "cell_type": "code",
      "metadata": {
        "id": "MbGtGTLvJlmw"
      },
      "source": [
        "# Hyperparameter tuning - GridSearchCV\n",
        "\n",
        "from sklearn.model_selection import GridSearchCV\n",
        "\n",
        "param_grid = {\n",
        "              'C' : [0.1, 1, 10, 100, 1000],\n",
        "              'gamma' : [1, 0.1, 0.01, 0.001, 0.0001],\n",
        "              'gamma' : ['scale', 'auto'],\n",
        "              'kernel' : ['linear', 'rbf', 'poly', 'sigmoid', 'nonlinear']\n",
        "              }\n",
        "\n",
        "grid = GridSearchCV(svm, param_grid, refit=True, cv=3, verbose=0)   # n_jobs="
      ],
      "execution_count": null,
      "outputs": []
    },
    {
      "cell_type": "code",
      "metadata": {
        "id": "6lhNx4NQgEfq",
        "colab": {
          "base_uri": "https://localhost:8080/"
        },
        "outputId": "012eee53-54e2-462c-d0bb-7bca1ec562dd"
      },
      "source": [
        "grid.fit(X_train, y_train)"
      ],
      "execution_count": null,
      "outputs": [
        {
          "output_type": "stream",
          "name": "stderr",
          "text": [
            "/usr/local/lib/python3.7/dist-packages/sklearn/model_selection/_validation.py:372: FitFailedWarning: \n",
            "30 fits failed out of a total of 150.\n",
            "The score on these train-test partitions for these parameters will be set to nan.\n",
            "If these failures are not expected, you can try to debug them by setting error_score='raise'.\n",
            "\n",
            "Below are more details about the failures:\n",
            "--------------------------------------------------------------------------------\n",
            "30 fits failed with the following error:\n",
            "Traceback (most recent call last):\n",
            "  File \"/usr/local/lib/python3.7/dist-packages/sklearn/model_selection/_validation.py\", line 681, in _fit_and_score\n",
            "    estimator.fit(X_train, y_train, **fit_params)\n",
            "  File \"/usr/local/lib/python3.7/dist-packages/sklearn/svm/_base.py\", line 255, in fit\n",
            "    fit(X, y, sample_weight, solver_type, kernel, random_seed=seed)\n",
            "  File \"/usr/local/lib/python3.7/dist-packages/sklearn/svm/_base.py\", line 333, in _dense_fit\n",
            "    random_seed=random_seed,\n",
            "  File \"sklearn/svm/_libsvm.pyx\", line 176, in sklearn.svm._libsvm.fit\n",
            "ValueError: 'nonlinear' is not in list\n",
            "\n",
            "  warnings.warn(some_fits_failed_message, FitFailedWarning)\n",
            "/usr/local/lib/python3.7/dist-packages/sklearn/model_selection/_search.py:972: UserWarning: One or more of the test scores are non-finite: [0.83864734 0.7647343  0.77198068 0.7647343         nan 0.83864734\n",
            " 0.7647343  0.74267311 0.7647343         nan 0.83864734 0.77198068\n",
            " 0.8236715  0.7647343         nan 0.83864734 0.77954911 0.74267311\n",
            " 0.7647343         nan 0.81626409 0.8310789  0.84589372 0.77954911\n",
            "        nan 0.81626409 0.78695652 0.74267311 0.7647343         nan\n",
            " 0.80177134 0.8236715  0.84589372 0.73558776        nan 0.80177134\n",
            " 0.78695652 0.74267311 0.7647343         nan 0.77971014 0.82383253\n",
            " 0.84589372 0.6547504         nan 0.77971014 0.78695652 0.74267311\n",
            " 0.7647343         nan]\n",
            "  category=UserWarning,\n"
          ]
        },
        {
          "output_type": "execute_result",
          "data": {
            "text/plain": [
              "GridSearchCV(cv=3, estimator=SVC(),\n",
              "             param_grid={'C': [0.1, 1, 10, 100, 1000],\n",
              "                         'gamma': ['scale', 'auto'],\n",
              "                         'kernel': ['linear', 'rbf', 'poly', 'sigmoid',\n",
              "                                    'nonlinear']})"
            ]
          },
          "metadata": {},
          "execution_count": 44
        }
      ]
    },
    {
      "cell_type": "code",
      "metadata": {
        "id": "hdQ1EuyRgLl1",
        "colab": {
          "base_uri": "https://localhost:8080/"
        },
        "outputId": "c2b4488e-43cf-4124-821e-933169340702"
      },
      "source": [
        "grid.best_params_"
      ],
      "execution_count": null,
      "outputs": [
        {
          "output_type": "execute_result",
          "data": {
            "text/plain": [
              "{'C': 10, 'gamma': 'scale', 'kernel': 'poly'}"
            ]
          },
          "metadata": {},
          "execution_count": 45
        }
      ]
    },
    {
      "cell_type": "code",
      "metadata": {
        "id": "alBOFKCu1Xq5",
        "colab": {
          "base_uri": "https://localhost:8080/"
        },
        "outputId": "d29bf9fd-a99d-4d69-bde9-91eec56d64e0"
      },
      "source": [
        "grid.best_estimator_"
      ],
      "execution_count": null,
      "outputs": [
        {
          "output_type": "execute_result",
          "data": {
            "text/plain": [
              "SVC(C=10, kernel='poly')"
            ]
          },
          "metadata": {},
          "execution_count": 46
        }
      ]
    },
    {
      "cell_type": "code",
      "metadata": {
        "id": "oubPpuk-gmtZ",
        "colab": {
          "base_uri": "https://localhost:8080/"
        },
        "outputId": "a40996b2-5f99-43e2-f338-335c0af26518"
      },
      "source": [
        "# Predictions\n",
        "\n",
        "y_pred_grid = grid.predict(X_test)\n",
        "y_pred_grid"
      ],
      "execution_count": null,
      "outputs": [
        {
          "output_type": "execute_result",
          "data": {
            "text/plain": [
              "array([1, 1, 1, 1, 1, 1, 1, 1, 1, 1, 0, 1, 1, 1, 1, 0, 1, 1, 1, 1, 1, 1,\n",
              "       1, 1, 1, 1, 1, 1, 0, 0, 1, 1, 1, 0, 0, 1, 1, 1, 0, 1, 1, 1, 1, 1,\n",
              "       1, 1, 1, 1, 1, 1, 1, 0, 1, 1, 1, 1, 1, 1, 1])"
            ]
          },
          "metadata": {},
          "execution_count": 47
        }
      ]
    },
    {
      "cell_type": "code",
      "metadata": {
        "id": "EKLgKApvgyMP",
        "colab": {
          "base_uri": "https://localhost:8080/"
        },
        "outputId": "dcbc1065-47ce-43c4-d4c1-01d231d2a5c4"
      },
      "source": [
        "# classification metrics\n",
        "\n",
        "from sklearn.metrics import accuracy_score, confusion_matrix, classification_report\n",
        "\n",
        "print(\"1. Accuracy Score of  - \", accuracy_score(y_pred_grid, y_test))\n",
        "print(\"\\n\")\n",
        "print(\"2. Confusion Matrix - \\n\", confusion_matrix(y_pred_grid, y_test))\n",
        "print(\"\\n\")\n",
        "print(\"3. Classification_report - \\n\\n\", classification_report(y_pred_grid, y_test))"
      ],
      "execution_count": null,
      "outputs": [
        {
          "output_type": "stream",
          "name": "stdout",
          "text": [
            "1. Accuracy Score of  -  0.8305084745762712\n",
            "\n",
            "\n",
            "2. Confusion Matrix - \n",
            " [[ 7  1]\n",
            " [ 9 42]]\n",
            "\n",
            "\n",
            "3. Classification_report - \n",
            "\n",
            "               precision    recall  f1-score   support\n",
            "\n",
            "           0       0.44      0.88      0.58         8\n",
            "           1       0.98      0.82      0.89        51\n",
            "\n",
            "    accuracy                           0.83        59\n",
            "   macro avg       0.71      0.85      0.74        59\n",
            "weighted avg       0.90      0.83      0.85        59\n",
            "\n"
          ]
        }
      ]
    },
    {
      "cell_type": "markdown",
      "metadata": {
        "id": "lGoiE-901g3f"
      },
      "source": [
        "**As seen above, despite GridSearhCV, SVM makes us say, \"Nay! We can do better!\"**"
      ]
    },
    {
      "cell_type": "markdown",
      "metadata": {
        "id": "qPNCNk581nt-"
      },
      "source": [
        "##### **Ad : Irrelevant yet relevant**"
      ]
    },
    {
      "cell_type": "code",
      "metadata": {
        "id": "Rc1DPPwk1bBI"
      },
      "source": [
        "cman = ['status']\n",
        "xpxp = pd.read_csv(\"parkinsons_data.csv\")[cman]"
      ],
      "execution_count": null,
      "outputs": []
    },
    {
      "cell_type": "code",
      "metadata": {
        "colab": {
          "base_uri": "https://localhost:8080/"
        },
        "id": "BxrH6QbO68cX",
        "outputId": "b3cddade-6bc7-4aa5-e358-71d2d6a812a7"
      },
      "source": [
        "xpxp.head()"
      ],
      "execution_count": null,
      "outputs": [
        {
          "output_type": "execute_result",
          "data": {
            "text/html": [
              "<div>\n",
              "<style scoped>\n",
              "    .dataframe tbody tr th:only-of-type {\n",
              "        vertical-align: middle;\n",
              "    }\n",
              "\n",
              "    .dataframe tbody tr th {\n",
              "        vertical-align: top;\n",
              "    }\n",
              "\n",
              "    .dataframe thead th {\n",
              "        text-align: right;\n",
              "    }\n",
              "</style>\n",
              "<table border=\"1\" class=\"dataframe\">\n",
              "  <thead>\n",
              "    <tr style=\"text-align: right;\">\n",
              "      <th></th>\n",
              "      <th>status</th>\n",
              "    </tr>\n",
              "  </thead>\n",
              "  <tbody>\n",
              "    <tr>\n",
              "      <th>0</th>\n",
              "      <td>1</td>\n",
              "    </tr>\n",
              "    <tr>\n",
              "      <th>1</th>\n",
              "      <td>1</td>\n",
              "    </tr>\n",
              "    <tr>\n",
              "      <th>2</th>\n",
              "      <td>1</td>\n",
              "    </tr>\n",
              "    <tr>\n",
              "      <th>3</th>\n",
              "      <td>1</td>\n",
              "    </tr>\n",
              "    <tr>\n",
              "      <th>4</th>\n",
              "      <td>1</td>\n",
              "    </tr>\n",
              "  </tbody>\n",
              "</table>\n",
              "</div>"
            ],
            "text/plain": [
              "   status\n",
              "0       1\n",
              "1       1\n",
              "2       1\n",
              "3       1\n",
              "4       1"
            ]
          },
          "metadata": {},
          "execution_count": 50
        }
      ]
    },
    {
      "cell_type": "code",
      "metadata": {
        "id": "vq5q6vfo7Dhw"
      },
      "source": [
        "## Whilst working on this -- got bored and --\n",
        "## did some googling -- which you are about to find out --\n",
        "## !!\n",
        "\n",
        "# +--------------------------------+\n",
        "# | *** Ways to handle big data ** |\n",
        "# +--------------------------------+\n",
        "# \n",
        "# 1. Select a subset of your data\n",
        "# 1.1 Study, Clean, and make a baseline model\n",
        "# \n",
        "# 2. Load only the columns you need\n",
        "# 2.1 Domain knowledge\n",
        "# \n",
        "# 3. Use dtypes efficiently. i.e., df.memory_usage\n",
        "# 3.1 pd.to_numeric(df[\"id\"], downcast=\"unsigned\")\n",
        "# 3.2 Nominals --> .astype(\"category\")\n",
        "# 3.3   Floats --> .apply(pd.to_numeric, downcast=\"float\")\n",
        "# 3.0 Compare with df.memory_usage\n",
        "# \n",
        "# 4. Parallelize model-training using more processing cores\n",
        "# 4.1 By def, sklearn uses 1 core, despite a computer has >=4 cores\n",
        "# 4.2 Use \"n_jobs=-1\" for that\n",
        "# \n",
        "# 5. Pickle or feathers format\n",
        "# 5.1. Faster reading and writing\n",
        "# \n",
        "# 6. Speed up pandas operations using - \n",
        "# 6.1 - \"pd.eval\"\n",
        "#\n",
        "# ARTICULO FINITOO!!"
      ],
      "execution_count": null,
      "outputs": []
    },
    {
      "cell_type": "code",
      "metadata": {
        "id": "a0ppXCX_-KxZ"
      },
      "source": [
        ""
      ],
      "execution_count": null,
      "outputs": []
    },
    {
      "cell_type": "markdown",
      "metadata": {
        "id": "6yQc-AUQBAJg"
      },
      "source": [
        "##### **Decision Trees**"
      ]
    },
    {
      "cell_type": "code",
      "metadata": {
        "colab": {
          "base_uri": "https://localhost:8080/"
        },
        "id": "43HTl_aHBC-C",
        "outputId": "2b52796b-94df-4e6b-fde3-bb1becc37a5c"
      },
      "source": [
        "from sklearn.tree import DecisionTreeClassifier\n",
        "\n",
        "tree = DecisionTreeClassifier(criterion=\"entropy\",  \n",
        "                              random_state=0)\n",
        "\n",
        "tree.fit(X_train, y_train)"
      ],
      "execution_count": null,
      "outputs": [
        {
          "output_type": "execute_result",
          "data": {
            "text/plain": [
              "DecisionTreeClassifier(criterion='entropy', random_state=0)"
            ]
          },
          "metadata": {},
          "execution_count": 52
        }
      ]
    },
    {
      "cell_type": "code",
      "metadata": {
        "id": "iq0X6Ae9CZlA"
      },
      "source": [
        "# Prediction\n",
        "\n",
        "y_pred = tree.predict(X_test)"
      ],
      "execution_count": null,
      "outputs": []
    },
    {
      "cell_type": "code",
      "metadata": {
        "colab": {
          "base_uri": "https://localhost:8080/"
        },
        "id": "yUtLlFROCfmD",
        "outputId": "b9cbc780-a41a-47a9-984b-e452958f8d16"
      },
      "source": [
        "# classification metrics\n",
        "\n",
        "from sklearn.metrics import accuracy_score, confusion_matrix, classification_report\n",
        "\n",
        "print(\"1. Accuracy Score of  - \", accuracy_score(y_pred, y_test))\n",
        "print(\"\\n\")\n",
        "print(\"2. Confusion Matrix - \\n\", confusion_matrix(y_pred, y_test))\n",
        "print(\"\\n\")\n",
        "print(\"3. Classification_report - \\n\\n\", classification_report(y_pred, y_test))"
      ],
      "execution_count": null,
      "outputs": [
        {
          "output_type": "stream",
          "name": "stdout",
          "text": [
            "1. Accuracy Score of  -  0.9322033898305084\n",
            "\n",
            "\n",
            "2. Confusion Matrix - \n",
            " [[14  2]\n",
            " [ 2 41]]\n",
            "\n",
            "\n",
            "3. Classification_report - \n",
            "\n",
            "               precision    recall  f1-score   support\n",
            "\n",
            "           0       0.88      0.88      0.88        16\n",
            "           1       0.95      0.95      0.95        43\n",
            "\n",
            "    accuracy                           0.93        59\n",
            "   macro avg       0.91      0.91      0.91        59\n",
            "weighted avg       0.93      0.93      0.93        59\n",
            "\n"
          ]
        }
      ]
    },
    {
      "cell_type": "code",
      "metadata": {
        "colab": {
          "base_uri": "https://localhost:8080/"
        },
        "id": "yU1TwtdwErU4",
        "outputId": "ec32a2e1-c94d-41cc-e3b3-d9f2c2d700aa"
      },
      "source": [
        "# Attributes\n",
        "\n",
        "print(\"\\t---------------------------------------\")\n",
        "print(\"\\t**Attributes of DeisionTreeClassifier**\")\n",
        "print(\"\\t---------------------------------------\")\n",
        "print('\\n')\n",
        "print(\"1. Class labels of target -\", tree.classes_)\n",
        "print(\"\\n\")\n",
        "\n",
        "d = dict();\n",
        "column_list = X.columns\n",
        "\n",
        "for i in range(len(tree.feature_importances_)):\n",
        "  d[column_list[i]]= tree.feature_importances_[i]\n",
        "\n",
        "print(\"2. Number of features involved -\", tree.n_features_in_)\n",
        "print(\"\\n\")\n",
        "\n",
        "print(\"3. Feature Importances -\\n\", d)\n",
        "print(\"\\n\")\n",
        "\n",
        "print(\"Number of outputs when fit is performed -\", tree.n_outputs_)"
      ],
      "execution_count": null,
      "outputs": [
        {
          "output_type": "stream",
          "name": "stdout",
          "text": [
            "\t---------------------------------------\n",
            "\t**Attributes of DeisionTreeClassifier**\n",
            "\t---------------------------------------\n",
            "\n",
            "\n",
            "1. Class labels of target - [0 1]\n",
            "\n",
            "\n",
            "2. Number of features involved - 22\n",
            "\n",
            "\n",
            "3. Feature Importances -\n",
            " {'MDVP_Fo(Hz)': 0.07800225684263316, 'MDVP_Fhi(Hz)': 0.08723207672496047, 'MDVP_Flo(Hz)': 0.0560489860617446, 'MDVP_Jitter(percentage)': 0.0, 'MDVP_Jitter(Abs)': 0.0, 'MDVP_RAP': 0.0, 'MDVP_PPQ': 0.0, 'Jitter_DDP': 0.0, 'MDVP_Shimmer': 0.0, 'MDVP_Shimmer(dB)': 0.0, 'Shimmer_APQ3': 0.19054028953259627, 'Shimmer_APQ5': 0.0, 'MDVP_APQ': 0.11771440691997453, 'Shimmer_DDA': 0.0, 'NHR': 0.0, 'HNR': 0.0, 'RPDE': 0.08297070748737863, 'DFA': 0.033719448106602996, 'spread1': 0.0, 'spread2': 0.0, 'D2': 0.07916029490018807, 'PPE': 0.27461153342392136}\n",
            "\n",
            "\n",
            "Number of outputs when fit is performed - 1\n"
          ]
        }
      ]
    },
    {
      "cell_type": "code",
      "metadata": {
        "id": "sRIyZGyfFFsW"
      },
      "source": [
        ""
      ],
      "execution_count": null,
      "outputs": []
    },
    {
      "cell_type": "markdown",
      "metadata": {
        "id": "K2a7d3f9C33L"
      },
      "source": [
        "**And, Remember...**\n",
        "\n",
        "\n",
        "\n",
        "*   **model.score(X_test, y_test) gives test score accuracy**\n",
        "*   **model.sklearn.metrics.accuracy_score(X_test, y_test) gives overall model accuracy**\n",
        "\n"
      ]
    },
    {
      "cell_type": "code",
      "metadata": {
        "id": "inLnb8tcCt7f"
      },
      "source": [
        ""
      ],
      "execution_count": null,
      "outputs": []
    },
    {
      "cell_type": "markdown",
      "metadata": {
        "id": "7ElIGV7GMsdY"
      },
      "source": [
        "##### **k- Nearest Neighbors**"
      ]
    },
    {
      "cell_type": "markdown",
      "metadata": {
        "id": "dzoI_lZbNgxz"
      },
      "source": [
        "**(Hush!! Don't tell anybody: kNN is a non-parametric method)**"
      ]
    },
    {
      "cell_type": "code",
      "metadata": {
        "colab": {
          "base_uri": "https://localhost:8080/"
        },
        "id": "5YBtFeoZMw0F",
        "outputId": "1a186ab9-1a1f-4548-f972-7c02cff88326"
      },
      "source": [
        "from sklearn.neighbors import KNeighborsClassifier\n",
        "\n",
        "knn = KNeighborsClassifier()\n",
        "\n",
        "knn.fit(X_train, y_train)"
      ],
      "execution_count": null,
      "outputs": [
        {
          "output_type": "execute_result",
          "data": {
            "text/plain": [
              "KNeighborsClassifier()"
            ]
          },
          "metadata": {},
          "execution_count": 56
        }
      ]
    },
    {
      "cell_type": "code",
      "metadata": {
        "id": "2QWFTMtUNEFk"
      },
      "source": [
        "# Prediction\n",
        "\n",
        "y_pred = knn.predict(X_test)"
      ],
      "execution_count": null,
      "outputs": []
    },
    {
      "cell_type": "code",
      "metadata": {
        "colab": {
          "base_uri": "https://localhost:8080/"
        },
        "id": "LDdM2D0SNKD0",
        "outputId": "b6cef255-ece7-4b97-aeac-07bc63a356c0"
      },
      "source": [
        "# classification metrics\n",
        "\n",
        "from sklearn.metrics import accuracy_score, confusion_matrix, classification_report\n",
        "\n",
        "print(\"1. Accuracy Score of  - \", accuracy_score(y_pred, y_test))\n",
        "print(\"\\n\")\n",
        "print(\"2. Confusion Matrix - \\n\", confusion_matrix(y_pred, y_test))\n",
        "print(\"\\n\")\n",
        "print(\"3. Classification_report - \\n\\n\", classification_report(y_pred, y_test))"
      ],
      "execution_count": null,
      "outputs": [
        {
          "output_type": "stream",
          "name": "stdout",
          "text": [
            "1. Accuracy Score of  -  0.847457627118644\n",
            "\n",
            "\n",
            "2. Confusion Matrix - \n",
            " [[ 9  2]\n",
            " [ 7 41]]\n",
            "\n",
            "\n",
            "3. Classification_report - \n",
            "\n",
            "               precision    recall  f1-score   support\n",
            "\n",
            "           0       0.56      0.82      0.67        11\n",
            "           1       0.95      0.85      0.90        48\n",
            "\n",
            "    accuracy                           0.85        59\n",
            "   macro avg       0.76      0.84      0.78        59\n",
            "weighted avg       0.88      0.85      0.86        59\n",
            "\n"
          ]
        }
      ]
    },
    {
      "cell_type": "markdown",
      "metadata": {
        "id": "7mVIcCiqOG9x"
      },
      "source": [
        "**You guessed it!!**\n",
        "\n",
        "**Hyperparameter Tuning, it is**"
      ]
    },
    {
      "cell_type": "code",
      "metadata": {
        "id": "HdjW8Ix9NQZh"
      },
      "source": [
        "# Hyperparamter tuning to fit the model with best parameters\n",
        "\n",
        "from sklearn.model_selection import GridSearchCV\n",
        "\n",
        "leaf_size   = list(range(1,50))\n",
        "n_neighbors = list(range(1,20))\n",
        "p = [1,2]\n",
        "\n",
        "param_grid = dict(leaf_size = leaf_size,\n",
        "                  n_neighbors = n_neighbors,\n",
        "                  p = p)\n",
        "\n",
        "grid = GridSearchCV(knn, param_grid, cv=5 )  # verbose=0, n_job="
      ],
      "execution_count": null,
      "outputs": []
    },
    {
      "cell_type": "code",
      "metadata": {
        "colab": {
          "base_uri": "https://localhost:8080/"
        },
        "id": "mNczGdA_PfJU",
        "outputId": "9806acd0-82e0-48b8-e208-698e73eb1f68"
      },
      "source": [
        "%%time\n",
        "\n",
        "grid.fit(X_train, y_train)"
      ],
      "execution_count": null,
      "outputs": [
        {
          "output_type": "stream",
          "name": "stdout",
          "text": [
            "CPU times: user 56.7 s, sys: 393 ms, total: 57.1 s\n",
            "Wall time: 56.8 s\n"
          ]
        },
        {
          "output_type": "execute_result",
          "data": {
            "text/plain": [
              "GridSearchCV(cv=5, estimator=KNeighborsClassifier(),\n",
              "             param_grid={'leaf_size': [1, 2, 3, 4, 5, 6, 7, 8, 9, 10, 11, 12,\n",
              "                                       13, 14, 15, 16, 17, 18, 19, 20, 21, 22,\n",
              "                                       23, 24, 25, 26, 27, 28, 29, 30, ...],\n",
              "                         'n_neighbors': [1, 2, 3, 4, 5, 6, 7, 8, 9, 10, 11, 12,\n",
              "                                         13, 14, 15, 16, 17, 18, 19],\n",
              "                         'p': [1, 2]})"
            ]
          },
          "metadata": {},
          "execution_count": 60
        }
      ]
    },
    {
      "cell_type": "code",
      "metadata": {
        "id": "2g3opIEzPlPv",
        "colab": {
          "base_uri": "https://localhost:8080/"
        },
        "outputId": "0260530b-48c8-4397-b5a1-18c352996436"
      },
      "source": [
        "grid.best_params_\n",
        "grid.best_estimator_"
      ],
      "execution_count": null,
      "outputs": [
        {
          "output_type": "execute_result",
          "data": {
            "text/plain": [
              "KNeighborsClassifier(leaf_size=1, n_neighbors=7, p=1)"
            ]
          },
          "metadata": {},
          "execution_count": 61
        }
      ]
    },
    {
      "cell_type": "code",
      "metadata": {
        "id": "To7bWPKjQWqB"
      },
      "source": [
        "# Prediction\n",
        "\n",
        "y_pred_grid = grid.predict(X_test)"
      ],
      "execution_count": null,
      "outputs": []
    },
    {
      "cell_type": "code",
      "metadata": {
        "id": "bCzhPhNWP9Sq",
        "colab": {
          "base_uri": "https://localhost:8080/"
        },
        "outputId": "6da0e435-67aa-4f0e-cdb9-0ca4dfeac181"
      },
      "source": [
        "# classification metrics\n",
        "\n",
        "from sklearn.metrics import accuracy_score, confusion_matrix, classification_report\n",
        "\n",
        "print(\"1. Accuracy Score of  - \", accuracy_score(y_pred_grid, y_test))\n",
        "print(\"\\n\")\n",
        "print(\"2. Confusion Matrix - \\n\", confusion_matrix(y_pred_grid, y_test))\n",
        "print(\"\\n\")\n",
        "print(\"3. Classification_report - \\n\\n\", classification_report(y_pred_grid, y_test))"
      ],
      "execution_count": null,
      "outputs": [
        {
          "output_type": "stream",
          "name": "stdout",
          "text": [
            "1. Accuracy Score of  -  0.847457627118644\n",
            "\n",
            "\n",
            "2. Confusion Matrix - \n",
            " [[ 8  1]\n",
            " [ 8 42]]\n",
            "\n",
            "\n",
            "3. Classification_report - \n",
            "\n",
            "               precision    recall  f1-score   support\n",
            "\n",
            "           0       0.50      0.89      0.64         9\n",
            "           1       0.98      0.84      0.90        50\n",
            "\n",
            "    accuracy                           0.85        59\n",
            "   macro avg       0.74      0.86      0.77        59\n",
            "weighted avg       0.90      0.85      0.86        59\n",
            "\n"
          ]
        }
      ]
    },
    {
      "cell_type": "markdown",
      "metadata": {
        "id": "ZvmWgnP1Qnbn"
      },
      "source": [
        "**Despite Hyperparameter tuning, kNN's best isn't our best**"
      ]
    },
    {
      "cell_type": "code",
      "metadata": {
        "id": "JELozccqQiF7"
      },
      "source": [
        ""
      ],
      "execution_count": null,
      "outputs": []
    },
    {
      "cell_type": "markdown",
      "metadata": {
        "id": "K0rjJBT8Q2sC"
      },
      "source": [
        "##### **Random Forest Classifier**"
      ]
    },
    {
      "cell_type": "code",
      "metadata": {
        "colab": {
          "base_uri": "https://localhost:8080/"
        },
        "id": "LguGya_CQ51g",
        "outputId": "d66174a4-f556-4435-af12-cf8c18366162"
      },
      "source": [
        "from sklearn.ensemble import RandomForestClassifier\n",
        "\n",
        "rfc = RandomForestClassifier()\n",
        "\n",
        "rfc.fit(X_train, y_train)"
      ],
      "execution_count": null,
      "outputs": [
        {
          "output_type": "execute_result",
          "data": {
            "text/plain": [
              "RandomForestClassifier()"
            ]
          },
          "metadata": {},
          "execution_count": 64
        }
      ]
    },
    {
      "cell_type": "code",
      "metadata": {
        "id": "gNdWBIDvRaSJ"
      },
      "source": [
        "# Prediction\n",
        "\n",
        "y_pred = rfc.predict(X_test)"
      ],
      "execution_count": null,
      "outputs": []
    },
    {
      "cell_type": "code",
      "metadata": {
        "colab": {
          "base_uri": "https://localhost:8080/"
        },
        "id": "rxqgXmx7RgSc",
        "outputId": "618b274c-6c63-4c2a-cf48-d0013cd3c8d3"
      },
      "source": [
        "# classification metrics\n",
        "\n",
        "from sklearn.metrics import accuracy_score, confusion_matrix, classification_report\n",
        "\n",
        "print(\"1. Accuracy Score of  - \", accuracy_score(y_pred, y_test))\n",
        "print(\"\\n\")\n",
        "print(\"2. Confusion Matrix - \\n\", confusion_matrix(y_pred, y_test))\n",
        "print(\"\\n\")\n",
        "print(\"3. Classification_report - \\n\\n\", classification_report(y_pred, y_test))"
      ],
      "execution_count": null,
      "outputs": [
        {
          "output_type": "stream",
          "name": "stdout",
          "text": [
            "1. Accuracy Score of  -  0.9491525423728814\n",
            "\n",
            "\n",
            "2. Confusion Matrix - \n",
            " [[14  1]\n",
            " [ 2 42]]\n",
            "\n",
            "\n",
            "3. Classification_report - \n",
            "\n",
            "               precision    recall  f1-score   support\n",
            "\n",
            "           0       0.88      0.93      0.90        15\n",
            "           1       0.98      0.95      0.97        44\n",
            "\n",
            "    accuracy                           0.95        59\n",
            "   macro avg       0.93      0.94      0.93        59\n",
            "weighted avg       0.95      0.95      0.95        59\n",
            "\n"
          ]
        }
      ]
    },
    {
      "cell_type": "markdown",
      "metadata": {
        "id": "OjqV0gsDRoa3"
      },
      "source": [
        "\n",
        "\n",
        "*   **\"Be content with what you have\" can be translated as \"Be content with --Whatever\"... Yeah! \"Whatever\", when you don't strive for better from good or from better to the best**\n",
        "*   ***Not the destiny; The journey do -- yeah -- matters***"
      ]
    },
    {
      "cell_type": "code",
      "metadata": {
        "id": "MWPTEemzRj82"
      },
      "source": [
        "# Hyperparameter Tuning of RFC\n",
        "\n",
        "# RandomizedSearchCV\n",
        "\n",
        "from sklearn.model_selection import RandomizedSearchCV\n",
        "\n",
        "param_distributions = {\n",
        "                      'bootstrap':[True, False],\n",
        "                      'max_depth':[80, 90, 100, 110, 120],\n",
        "                      'max_features': ['auto', 'sqrt'],\n",
        "                      'min_samples_leaf':[1,2,3,4,5,6,7,8,9,10],\n",
        "                      'min_samples_split':[2, 3, 5, 8, 10, 12, 14, 15],\n",
        "                      'n_estimators':[200, 400, 600, 800, 1000, 1200, 1400, 1600, 1800, 2000]\n",
        "                      }\n",
        "\n",
        "randCV = RandomizedSearchCV( \n",
        "                     estimator = rfc, \n",
        "                     param_distributions = param_distributions,\n",
        "                     cv = 3,\n",
        "                     n_iter = 100\n",
        "                    )                                                             # verbose = , n_jobs = "
      ],
      "execution_count": null,
      "outputs": []
    },
    {
      "cell_type": "code",
      "metadata": {
        "colab": {
          "base_uri": "https://localhost:8080/"
        },
        "id": "W4N_23LBk8AA",
        "outputId": "61f340a5-3b61-4f38-8cd5-c67e023835e7"
      },
      "source": [
        "import os\n",
        "  \n",
        "n_cpu = os.cpu_count()\n",
        "print(\"Number of CPUs in the system:\", n_cpu)"
      ],
      "execution_count": null,
      "outputs": [
        {
          "output_type": "stream",
          "name": "stdout",
          "text": [
            "Number of CPUs in the system: 2\n"
          ]
        }
      ]
    },
    {
      "cell_type": "code",
      "metadata": {
        "id": "xKssDZ1BW0x1"
      },
      "source": [
        "# rfc.get_params()  .keys()"
      ],
      "execution_count": null,
      "outputs": []
    },
    {
      "cell_type": "code",
      "metadata": {
        "colab": {
          "base_uri": "https://localhost:8080/"
        },
        "id": "0QEXRnD_ciZs",
        "outputId": "5e585202-308b-4017-e543-ba9a5c865166"
      },
      "source": [
        "rfc.get_params().keys()"
      ],
      "execution_count": null,
      "outputs": [
        {
          "output_type": "execute_result",
          "data": {
            "text/plain": [
              "dict_keys(['bootstrap', 'ccp_alpha', 'class_weight', 'criterion', 'max_depth', 'max_features', 'max_leaf_nodes', 'max_samples', 'min_impurity_decrease', 'min_samples_leaf', 'min_samples_split', 'min_weight_fraction_leaf', 'n_estimators', 'n_jobs', 'oob_score', 'random_state', 'verbose', 'warm_start'])"
            ]
          },
          "metadata": {},
          "execution_count": 70
        }
      ]
    },
    {
      "cell_type": "code",
      "metadata": {
        "colab": {
          "base_uri": "https://localhost:8080/"
        },
        "id": "nmotGRaRVZ2s",
        "outputId": "8ee9009d-b4f4-4c12-b633-a0326856eba1"
      },
      "source": [
        "randCV.fit(X_train, y_train)"
      ],
      "execution_count": null,
      "outputs": [
        {
          "output_type": "execute_result",
          "data": {
            "text/plain": [
              "RandomizedSearchCV(cv=3, estimator=RandomForestClassifier(), n_iter=100,\n",
              "                   param_distributions={'bootstrap': [True, False],\n",
              "                                        'max_depth': [80, 90, 100, 110, 120],\n",
              "                                        'max_features': ['auto', 'sqrt'],\n",
              "                                        'min_samples_leaf': [1, 2, 3, 4, 5, 6,\n",
              "                                                             7, 8, 9, 10],\n",
              "                                        'min_samples_split': [2, 3, 5, 8, 10,\n",
              "                                                              12, 14, 15],\n",
              "                                        'n_estimators': [200, 400, 600, 800,\n",
              "                                                         1000, 1200, 1400, 1600,\n",
              "                                                         1800, 2000]})"
            ]
          },
          "metadata": {},
          "execution_count": 71
        }
      ]
    },
    {
      "cell_type": "code",
      "metadata": {
        "id": "CqWwwe4BWXF9",
        "colab": {
          "base_uri": "https://localhost:8080/"
        },
        "outputId": "4830946a-4823-41d6-eb0c-06dfe55a70c7"
      },
      "source": [
        "randCV.best_params_"
      ],
      "execution_count": null,
      "outputs": [
        {
          "output_type": "execute_result",
          "data": {
            "text/plain": [
              "{'bootstrap': False,\n",
              " 'max_depth': 120,\n",
              " 'max_features': 'sqrt',\n",
              " 'min_samples_leaf': 1,\n",
              " 'min_samples_split': 2,\n",
              " 'n_estimators': 1400}"
            ]
          },
          "metadata": {},
          "execution_count": 72
        }
      ]
    },
    {
      "cell_type": "code",
      "metadata": {
        "id": "o3V_RpO8VkUs"
      },
      "source": [
        "# Prediction\n",
        "\n",
        "y_pred_rand = randCV.predict(X_test)"
      ],
      "execution_count": null,
      "outputs": []
    },
    {
      "cell_type": "code",
      "metadata": {
        "id": "q1n--kifWvW0",
        "colab": {
          "base_uri": "https://localhost:8080/"
        },
        "outputId": "bf585241-c03e-493c-9d22-bc350b0fcaca"
      },
      "source": [
        "# classification metrics\n",
        "\n",
        "from sklearn.metrics import accuracy_score, confusion_matrix, classification_report\n",
        "\n",
        "print(\"1. Accuracy Score of  - \", accuracy_score(y_pred_rand, y_test))\n",
        "print(\"\\n\")\n",
        "print(\"2. Confusion Matrix - \\n\", confusion_matrix(y_pred_rand, y_test))\n",
        "print(\"\\n\")\n",
        "print(\"3. Classification_report - \\n\\n\", classification_report(y_pred_rand, y_test))"
      ],
      "execution_count": null,
      "outputs": [
        {
          "output_type": "stream",
          "name": "stdout",
          "text": [
            "1. Accuracy Score of  -  0.9322033898305084\n",
            "\n",
            "\n",
            "2. Confusion Matrix - \n",
            " [[13  1]\n",
            " [ 3 42]]\n",
            "\n",
            "\n",
            "3. Classification_report - \n",
            "\n",
            "               precision    recall  f1-score   support\n",
            "\n",
            "           0       0.81      0.93      0.87        14\n",
            "           1       0.98      0.93      0.95        45\n",
            "\n",
            "    accuracy                           0.93        59\n",
            "   macro avg       0.89      0.93      0.91        59\n",
            "weighted avg       0.94      0.93      0.93        59\n",
            "\n"
          ]
        }
      ]
    },
    {
      "cell_type": "markdown",
      "metadata": {
        "id": "BWTmJfcOziZv"
      },
      "source": [
        "**THE SAME**"
      ]
    },
    {
      "cell_type": "code",
      "metadata": {
        "id": "W3vocIsAcBal"
      },
      "source": [
        ""
      ],
      "execution_count": null,
      "outputs": []
    },
    {
      "cell_type": "markdown",
      "metadata": {
        "id": "oKjM5aV-zsor"
      },
      "source": [
        "##### **AdaBoostClassifier**"
      ]
    },
    {
      "cell_type": "code",
      "metadata": {
        "colab": {
          "base_uri": "https://localhost:8080/"
        },
        "id": "AK0kOx5KzxEU",
        "outputId": "c39cda07-f731-4929-c3cf-9a7c2dea8cc2"
      },
      "source": [
        "from sklearn.ensemble import AdaBoostClassifier\n",
        "\n",
        "ada = AdaBoostClassifier()\n",
        "\n",
        "ada.fit(X_train, y_train)"
      ],
      "execution_count": null,
      "outputs": [
        {
          "output_type": "execute_result",
          "data": {
            "text/plain": [
              "AdaBoostClassifier()"
            ]
          },
          "metadata": {},
          "execution_count": 75
        }
      ]
    },
    {
      "cell_type": "code",
      "metadata": {
        "id": "K-SXSRFu3ms0"
      },
      "source": [
        "# Prediction\n",
        "\n",
        "y_pred = ada.predict(X_test)"
      ],
      "execution_count": null,
      "outputs": []
    },
    {
      "cell_type": "code",
      "metadata": {
        "colab": {
          "base_uri": "https://localhost:8080/"
        },
        "id": "CibZ96Z73s99",
        "outputId": "aaaa5b78-9f3f-4049-b978-3df3098f51fe"
      },
      "source": [
        "# classification metrics\n",
        "\n",
        "from sklearn.metrics import accuracy_score, confusion_matrix, classification_report\n",
        "\n",
        "print(\"1. Accuracy Score of  - \", accuracy_score(y_pred, y_test))\n",
        "print(\"\\n\")\n",
        "print(\"2. Confusion Matrix - \\n\", confusion_matrix(y_pred, y_test))\n",
        "print(\"\\n\")\n",
        "print(\"3. Classification_report - \\n\\n\", classification_report(y_pred, y_test))"
      ],
      "execution_count": null,
      "outputs": [
        {
          "output_type": "stream",
          "name": "stdout",
          "text": [
            "1. Accuracy Score of  -  0.847457627118644\n",
            "\n",
            "\n",
            "2. Confusion Matrix - \n",
            " [[11  4]\n",
            " [ 5 39]]\n",
            "\n",
            "\n",
            "3. Classification_report - \n",
            "\n",
            "               precision    recall  f1-score   support\n",
            "\n",
            "           0       0.69      0.73      0.71        15\n",
            "           1       0.91      0.89      0.90        44\n",
            "\n",
            "    accuracy                           0.85        59\n",
            "   macro avg       0.80      0.81      0.80        59\n",
            "weighted avg       0.85      0.85      0.85        59\n",
            "\n"
          ]
        }
      ]
    },
    {
      "cell_type": "code",
      "metadata": {
        "id": "nQlCq3JS3y0e"
      },
      "source": [
        ""
      ],
      "execution_count": null,
      "outputs": []
    },
    {
      "cell_type": "markdown",
      "metadata": {
        "id": "YLrJvtIA3525"
      },
      "source": [
        "##### **GradientBoostingClassifier**"
      ]
    },
    {
      "cell_type": "code",
      "metadata": {
        "colab": {
          "base_uri": "https://localhost:8080/"
        },
        "id": "YMPnIQAp3822",
        "outputId": "fb3d782f-f5da-47ea-ea18-643504316afd"
      },
      "source": [
        "from sklearn.ensemble import GradientBoostingClassifier\n",
        "\n",
        "gradyb = GradientBoostingClassifier()\n",
        "\n",
        "gradyb.fit(X_train, y_train)"
      ],
      "execution_count": null,
      "outputs": [
        {
          "output_type": "execute_result",
          "data": {
            "text/plain": [
              "GradientBoostingClassifier()"
            ]
          },
          "metadata": {},
          "execution_count": 78
        }
      ]
    },
    {
      "cell_type": "code",
      "metadata": {
        "id": "_frAFpLC4M-k"
      },
      "source": [
        "# Prediction\n",
        "\n",
        "y_pred = gradyb.predict(X_test)"
      ],
      "execution_count": null,
      "outputs": []
    },
    {
      "cell_type": "code",
      "metadata": {
        "colab": {
          "base_uri": "https://localhost:8080/"
        },
        "id": "7qGegLko4Rag",
        "outputId": "3da902ac-1a8d-47bb-974c-48f243967490"
      },
      "source": [
        "# classification metrics\n",
        "\n",
        "from sklearn.metrics import accuracy_score, confusion_matrix, classification_report\n",
        "\n",
        "print(\"1. Accuracy Score of  - \", accuracy_score(y_pred, y_test))\n",
        "print(\"\\n\")\n",
        "print(\"2. Confusion Matrix - \\n\", confusion_matrix(y_pred, y_test))\n",
        "print(\"\\n\")\n",
        "print(\"3. Classification_report - \\n\\n\", classification_report(y_pred, y_test))"
      ],
      "execution_count": null,
      "outputs": [
        {
          "output_type": "stream",
          "name": "stdout",
          "text": [
            "1. Accuracy Score of  -  0.9491525423728814\n",
            "\n",
            "\n",
            "2. Confusion Matrix - \n",
            " [[14  1]\n",
            " [ 2 42]]\n",
            "\n",
            "\n",
            "3. Classification_report - \n",
            "\n",
            "               precision    recall  f1-score   support\n",
            "\n",
            "           0       0.88      0.93      0.90        15\n",
            "           1       0.98      0.95      0.97        44\n",
            "\n",
            "    accuracy                           0.95        59\n",
            "   macro avg       0.93      0.94      0.93        59\n",
            "weighted avg       0.95      0.95      0.95        59\n",
            "\n"
          ]
        }
      ]
    },
    {
      "cell_type": "code",
      "metadata": {
        "id": "O9XXZrBC4R6m"
      },
      "source": [
        ""
      ],
      "execution_count": null,
      "outputs": []
    },
    {
      "cell_type": "markdown",
      "metadata": {
        "id": "mV-tJpJU4UZz"
      },
      "source": [
        "##### **XGBClassifier**"
      ]
    },
    {
      "cell_type": "code",
      "metadata": {
        "colab": {
          "base_uri": "https://localhost:8080/"
        },
        "id": "gBpvQ-Dt4YFh",
        "outputId": "ba435502-cd0a-4245-ddb1-a6a4e4e84654"
      },
      "source": [
        "import xgboost\n",
        "from xgboost import XGBClassifier\n",
        "\n",
        "xgb = XGBClassifier()\n",
        "\n",
        "xgb.fit(X_train, y_train)"
      ],
      "execution_count": null,
      "outputs": [
        {
          "output_type": "execute_result",
          "data": {
            "text/plain": [
              "XGBClassifier()"
            ]
          },
          "metadata": {},
          "execution_count": 81
        }
      ]
    },
    {
      "cell_type": "code",
      "metadata": {
        "id": "Al-RwiR649RH"
      },
      "source": [
        "# Prediction\n",
        "\n",
        "y_pred = xgb.predict(X_test)"
      ],
      "execution_count": null,
      "outputs": []
    },
    {
      "cell_type": "code",
      "metadata": {
        "colab": {
          "base_uri": "https://localhost:8080/"
        },
        "id": "D28d5fhM5SvM",
        "outputId": "011127d3-b3b6-4b68-95ba-ab7b8c03386b"
      },
      "source": [
        "# classification metrics\n",
        "\n",
        "from sklearn.metrics import accuracy_score, confusion_matrix, classification_report\n",
        "\n",
        "print(\"1. Accuracy Score of  - \", accuracy_score(y_pred, y_test))\n",
        "print(\"\\n\")\n",
        "print(\"2. Confusion Matrix - \\n\", confusion_matrix(y_pred, y_test))\n",
        "print(\"\\n\")\n",
        "print(\"3. Classification_report - \\n\\n\", classification_report(y_pred, y_test))"
      ],
      "execution_count": null,
      "outputs": [
        {
          "output_type": "stream",
          "name": "stdout",
          "text": [
            "1. Accuracy Score of  -  0.9491525423728814\n",
            "\n",
            "\n",
            "2. Confusion Matrix - \n",
            " [[14  1]\n",
            " [ 2 42]]\n",
            "\n",
            "\n",
            "3. Classification_report - \n",
            "\n",
            "               precision    recall  f1-score   support\n",
            "\n",
            "           0       0.88      0.93      0.90        15\n",
            "           1       0.98      0.95      0.97        44\n",
            "\n",
            "    accuracy                           0.95        59\n",
            "   macro avg       0.93      0.94      0.93        59\n",
            "weighted avg       0.95      0.95      0.95        59\n",
            "\n"
          ]
        }
      ]
    },
    {
      "cell_type": "markdown",
      "metadata": {
        "id": "7bFel_S55YHX"
      },
      "source": [
        "**94.9% seeems a good percentage.**\n",
        "\n",
        "**But, it's always a good time to say \"Why not?\"**"
      ]
    },
    {
      "cell_type": "code",
      "metadata": {
        "id": "iIBMICp27L8U"
      },
      "source": [
        ""
      ],
      "execution_count": null,
      "outputs": []
    },
    {
      "cell_type": "markdown",
      "metadata": {
        "id": "jqOvaJTn9nf3"
      },
      "source": [
        "##### **Inference**"
      ]
    },
    {
      "cell_type": "markdown",
      "metadata": {
        "id": "PQ2_hGfL9wAr"
      },
      "source": [
        "**Based on the accuracy scores, we can infer that following classifiers has high accuracies -**\n",
        "\n",
        "1.   **XGBoostingClassifier, GradientBoostingClassifier  :  94.9%**\n",
        "2.   **DecisionTreeClassifier, RandomForestClassifier    : 93.2%**"
      ]
    },
    {
      "cell_type": "markdown",
      "metadata": {
        "id": "hD27qRrkJ4us"
      },
      "source": [
        "##### **Deployment**"
      ]
    },
    {
      "cell_type": "code",
      "metadata": {
        "id": "RVhVFmxQNL8i"
      },
      "source": [
        "# Pckle dump\n",
        "\n",
        "import pickle\n",
        "\n",
        "pickle.dump(xgb, open(\"xgb.pkl\", \"wb\"))"
      ],
      "execution_count": null,
      "outputs": []
    },
    {
      "cell_type": "code",
      "metadata": {
        "id": "4733pVmQNURO"
      },
      "source": [
        "# Pydantic\n",
        "\n",
        "!pip install pydantic\n",
        "from pydantic import BaseModel\n",
        "\n",
        "class patient_details(BaseModel):\n",
        "  MDVP_Fo(Hz)      :   float\n",
        "  MDVP_Fhi(Hz)     :   float\n",
        "  MDVP_Flo(Hz)     :   float\n",
        "  MDVP_Jitter(percentage)   :   float\n",
        "  MDVP_itter(Abs)  :   float\n",
        "  MDVP_RAP         :   float\n",
        "  MDVP_PPQ         :   float\n",
        "  Jitter_DDP       :   float\n",
        "  MDVP_Shimmer     :   float\n",
        "  MDVP_Shimmer(dB) :   float\n",
        "  Shimmer_APQ3     :   float\n",
        "  Shimmer_APQ5     :   float\n",
        "  MDVP_APQ         :   float\n",
        "  Shimmer_DDA      :   float\n",
        "  NHR              :   float\n",
        "  HNR              :   float\n",
        "  RPDE             :   float\n",
        "  DFA              :   float\n",
        "  spread1          :   float\n",
        "  spread2          :   float\n",
        "  D2               :   float\n",
        "  PPE              :   float\n",
        "\n",
        "  class Config:\n",
        "    schema_extra = {\n",
        "        \"example\" : {\n",
        "            \"MDVP_Fo(Hz)\"      :   789.123,\n",
        "            \"MDVP_Fhi(Hz)\"     :   564.987,\n",
        "            \"MDVP_Flo(Hz)\"     :   123.456,\n",
        "            \"MDVP_Jitter(%)\"   :   0.01234,\n",
        "            \"MDVP_Jitter(Abs)\" :   0.45678,\n",
        "            \"MDVP_RAP\"         :   0.00589,\n",
        "            \"MDVP_PPQ\"         :   0.00548,\n",
        "            \"Jitter_DDP\"       :   0.02145,\n",
        "            \"MDVP_Shimmer\"     :   0.05896,\n",
        "            \"MDVP_Shimmer(dB)\" :   0.426,\n",
        "            \"Shimmer_APQ3\"     :   0.02588,\n",
        "            \"Shimmer_APQ5\"     :   0.03258,\n",
        "            \"MDVP_APQ\"         :   0.02895,\n",
        "            \"Shimmer_DDA\"      :   0.06895,\n",
        "            \"NHR\"              :   0.02866,\n",
        "            \"HNR\"              :   25.895,\n",
        "            \"RPDE\"             :   0.414986,\n",
        "            \"DFA\"              :   0.123456,\n",
        "            \"spread1\"          :   0.123456,\n",
        "            \"spread2\"          :   0.123456,\n",
        "            \"D2\"               :   0.123456,\n",
        "            \"PPE\"              :   0.123456\n",
        "        }\n",
        "    }"
      ],
      "execution_count": null,
      "outputs": []
    },
    {
      "cell_type": "code",
      "metadata": {
        "id": "cmfkkWSuSyf-"
      },
      "source": [
        "# FastAPI\n",
        "\n",
        "!pip install fastapi\n",
        "from fastapi import FastAPI\n",
        "\n",
        "app = FastAPI()\n",
        "\n",
        "@app.on_event(\"startup\")\n",
        "def load_model():                                   # path.operation.functiuno\n",
        "  global model\n",
        "  model = pickle.load(open(\"xgb.pkl\", \"rb\"))\n",
        "\n",
        "@app.get(\"/\")\n",
        "def index():\n",
        "  return {\"message\" : \"Homepage of API\"}\n",
        "\n",
        "@app.post(\"predict\")\n",
        "def get_patient_details(data: patient_details):\n",
        "  received = data.dict()\n",
        "  MDVP_Fo(Hz)  =  received[\"MDVP_Fo(Hz)\"]\n",
        "  MDVP_Fhi(Hz)  =  received[\"MDVP_Fhi(Hz)\"]\n",
        "  MDVP_Flo(Hz)  =  received[\"MDVP_Flo(Hz)\"]\n",
        "  MDVP_Jitter(percentage)  =  received[\"MDVP_Jitter(percentage)\"]\n",
        "  MDVP_Jitter(Abs)  =  received[\"MDVP_Jitter(Abs)\"]\n",
        "  MDVP_RAP  =  received[\"MDVP_RAP\"]\n",
        "  MDVP_PPQ  =  received[\"MDVP_PPQ\"]\n",
        "  Jitter_DDP  =  received[\"Jitter_DDP\"]\n",
        "  MDVP_Shimmer  =  received[\"MDVP_Shimmer\"]\n",
        "  MDVP_Shimmer(dB)  =  received[\"MDVP_Shimmer(dB)\"]\n",
        "  Shimmer_APQ3  =  received[\"Shimmer_APQ3\"]\n",
        "  Shimmer_APQ5  =  received[\"Shimmer_APQ5\"]\n",
        "  MDVP_APQ  =  received[\"MDVP_APQ\"]\n",
        "  Shimmer_DDA  =  received[\"Shimmer_DDA\"]\n",
        "  RPDE  =  received[\"RPDE\"]\n",
        "  DFA  =  received[\"DFA\"]\n",
        "  spread1  =  received[\"spread1\"]\n",
        "  spread2  =  received[\"spread2\"]\n",
        "  D2  =  received[\"D2\"]\n",
        "  PPE  =  received[\"PPE\"]\n",
        "  \n",
        "  pred_name = model.predict([[Gender, Married, Dependents, Education, Self_Employed, ApplicantIncome, CoapplicantIncome, LoanAmount, Loan_Amount_Term, Credit_History, Property_Area]]).tolist()[0]\n",
        "  return {\"prediction\" : pred_name}"
      ],
      "execution_count": null,
      "outputs": []
    },
    {
      "cell_type": "code",
      "metadata": {
        "id": "wd9T0QcjJ6ui"
      },
      "source": [
        "# ColabCode\n",
        "\n",
        "!pip install colabcode\n",
        "\n",
        "from colabcode import ColabCode\n",
        "\n",
        "server = ColabCode(port = 15000, code=False)"
      ],
      "execution_count": null,
      "outputs": []
    },
    {
      "cell_type": "code",
      "metadata": {
        "id": "9gWoWWMGXFUj"
      },
      "source": [
        "server.run_app(app = app)"
      ],
      "execution_count": null,
      "outputs": []
    },
    {
      "cell_type": "markdown",
      "metadata": {
        "id": "7lxDy82SXk-d"
      },
      "source": [
        "##### **END OF THE LINE**"
      ]
    }
  ]
}